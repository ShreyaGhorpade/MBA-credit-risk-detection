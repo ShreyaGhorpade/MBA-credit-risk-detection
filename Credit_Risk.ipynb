{
 "cells": [
  {
   "cell_type": "markdown",
   "id": "25a85032-79d4-43a2-a61a-fda8b43ba37d",
   "metadata": {},
   "source": [
    "# Credit Risk"
   ]
  },
  {
   "cell_type": "code",
   "execution_count": 3,
   "id": "46188cec-b32b-4f4f-bcc3-18c281b41458",
   "metadata": {},
   "outputs": [],
   "source": [
    "# Required library load\n",
    "library(tidyverse)"
   ]
  },
  {
   "cell_type": "code",
   "execution_count": 2,
   "id": "9d3ee9c3-b902-4edd-9938-cbae0fc47f53",
   "metadata": {},
   "outputs": [
    {
     "name": "stdout",
     "output_type": "stream",
     "text": [
      "Rows: 32,581\n",
      "Columns: 12\n",
      "$ person_age                 \u001b[3m\u001b[90m<int>\u001b[39m\u001b[23m 22\u001b[90m, \u001b[39m21\u001b[90m, \u001b[39m25\u001b[90m, \u001b[39m23\u001b[90m, \u001b[39m24\u001b[90m, \u001b[39m21\u001b[90m, \u001b[39m26\u001b[90m, \u001b[39m24\u001b[90m, \u001b[39m24\u001b[90m, \u001b[39m21\u001b[90m, \u001b[39m22\u001b[90m,\u001b[39m…\n",
      "$ person_income              \u001b[3m\u001b[90m<int>\u001b[39m\u001b[23m 59000\u001b[90m, \u001b[39m9600\u001b[90m, \u001b[39m9600\u001b[90m, \u001b[39m65500\u001b[90m, \u001b[39m54400\u001b[90m, \u001b[39m9900\u001b[90m, \u001b[39m7710…\n",
      "$ person_home_ownership      \u001b[3m\u001b[90m<chr>\u001b[39m\u001b[23m \"RENT\"\u001b[90m, \u001b[39m\"OWN\"\u001b[90m, \u001b[39m\"MORTGAGE\"\u001b[90m, \u001b[39m\"RENT\"\u001b[90m, \u001b[39m\"RENT\"\u001b[90m, \u001b[39m…\n",
      "$ person_emp_length          \u001b[3m\u001b[90m<dbl>\u001b[39m\u001b[23m 123\u001b[90m, \u001b[39m5\u001b[90m, \u001b[39m1\u001b[90m, \u001b[39m4\u001b[90m, \u001b[39m8\u001b[90m, \u001b[39m2\u001b[90m, \u001b[39m8\u001b[90m, \u001b[39m5\u001b[90m, \u001b[39m8\u001b[90m, \u001b[39m6\u001b[90m, \u001b[39m6\u001b[90m, \u001b[39m2\u001b[90m, \u001b[39m2\u001b[90m, \u001b[39m4\u001b[90m,\u001b[39m…\n",
      "$ loan_intent                \u001b[3m\u001b[90m<chr>\u001b[39m\u001b[23m \"PERSONAL\"\u001b[90m, \u001b[39m\"EDUCATION\"\u001b[90m, \u001b[39m\"MEDICAL\"\u001b[90m, \u001b[39m\"MEDICA…\n",
      "$ loan_grade                 \u001b[3m\u001b[90m<chr>\u001b[39m\u001b[23m \"D\"\u001b[90m, \u001b[39m\"B\"\u001b[90m, \u001b[39m\"C\"\u001b[90m, \u001b[39m\"C\"\u001b[90m, \u001b[39m\"C\"\u001b[90m, \u001b[39m\"A\"\u001b[90m, \u001b[39m\"B\"\u001b[90m, \u001b[39m\"B\"\u001b[90m, \u001b[39m\"A\"…\n",
      "$ loan_amnt                  \u001b[3m\u001b[90m<int>\u001b[39m\u001b[23m 35000\u001b[90m, \u001b[39m1000\u001b[90m, \u001b[39m5500\u001b[90m, \u001b[39m35000\u001b[90m, \u001b[39m35000\u001b[90m, \u001b[39m2500\u001b[90m, \u001b[39m3500…\n",
      "$ loan_int_rate              \u001b[3m\u001b[90m<dbl>\u001b[39m\u001b[23m 16.02\u001b[90m, \u001b[39m11.14\u001b[90m, \u001b[39m12.87\u001b[90m, \u001b[39m15.23\u001b[90m, \u001b[39m14.27\u001b[90m, \u001b[39m7.14\u001b[90m, \u001b[39m12…\n",
      "$ loan_status                \u001b[3m\u001b[90m<int>\u001b[39m\u001b[23m 1\u001b[90m, \u001b[39m0\u001b[90m, \u001b[39m1\u001b[90m, \u001b[39m1\u001b[90m, \u001b[39m1\u001b[90m, \u001b[39m1\u001b[90m, \u001b[39m1\u001b[90m, \u001b[39m1\u001b[90m, \u001b[39m1\u001b[90m, \u001b[39m1\u001b[90m, \u001b[39m1\u001b[90m, \u001b[39m1\u001b[90m, \u001b[39m1\u001b[90m, \u001b[39m1\u001b[90m, \u001b[39m0…\n",
      "$ loan_percent_income        \u001b[3m\u001b[90m<dbl>\u001b[39m\u001b[23m 0.59\u001b[90m, \u001b[39m0.10\u001b[90m, \u001b[39m0.57\u001b[90m, \u001b[39m0.53\u001b[90m, \u001b[39m0.55\u001b[90m, \u001b[39m0.25\u001b[90m, \u001b[39m0.45\u001b[90m, \u001b[39m0…\n",
      "$ cb_person_default_on_file  \u001b[3m\u001b[90m<chr>\u001b[39m\u001b[23m \"Y\"\u001b[90m, \u001b[39m\"N\"\u001b[90m, \u001b[39m\"N\"\u001b[90m, \u001b[39m\"N\"\u001b[90m, \u001b[39m\"Y\"\u001b[90m, \u001b[39m\"N\"\u001b[90m, \u001b[39m\"N\"\u001b[90m, \u001b[39m\"N\"\u001b[90m, \u001b[39m\"N\"…\n",
      "$ cb_person_cred_hist_length \u001b[3m\u001b[90m<int>\u001b[39m\u001b[23m 3\u001b[90m, \u001b[39m2\u001b[90m, \u001b[39m3\u001b[90m, \u001b[39m2\u001b[90m, \u001b[39m4\u001b[90m, \u001b[39m2\u001b[90m, \u001b[39m3\u001b[90m, \u001b[39m4\u001b[90m, \u001b[39m2\u001b[90m, \u001b[39m3\u001b[90m, \u001b[39m4\u001b[90m, \u001b[39m2\u001b[90m, \u001b[39m2\u001b[90m, \u001b[39m4\u001b[90m, \u001b[39m4…\n"
     ]
    }
   ],
   "source": [
    "# Load the dataset\n",
    "df <- read.csv(\"credit_risk_dataset.csv\")\n",
    "glimpse(df)"
   ]
  },
  {
   "cell_type": "markdown",
   "id": "8cd69a38-1c67-4213-80d2-7afb7c44df92",
   "metadata": {},
   "source": [
    "# Identifying Missing"
   ]
  },
  {
   "cell_type": "code",
   "execution_count": 3,
   "id": "aa204d53-f46f-4ce8-97f4-ef3d616b63f4",
   "metadata": {},
   "outputs": [
    {
     "data": {
      "text/html": [
       "<table class=\"dataframe\">\n",
       "<caption>A matrix: 32581 × 12 of type lgl</caption>\n",
       "<thead>\n",
       "\t<tr><th scope=col>person_age</th><th scope=col>person_income</th><th scope=col>person_home_ownership</th><th scope=col>person_emp_length</th><th scope=col>loan_intent</th><th scope=col>loan_grade</th><th scope=col>loan_amnt</th><th scope=col>loan_int_rate</th><th scope=col>loan_status</th><th scope=col>loan_percent_income</th><th scope=col>cb_person_default_on_file</th><th scope=col>cb_person_cred_hist_length</th></tr>\n",
       "</thead>\n",
       "<tbody>\n",
       "\t<tr><td>FALSE</td><td>FALSE</td><td>FALSE</td><td>FALSE</td><td>FALSE</td><td>FALSE</td><td>FALSE</td><td>FALSE</td><td>FALSE</td><td>FALSE</td><td>FALSE</td><td>FALSE</td></tr>\n",
       "\t<tr><td>FALSE</td><td>FALSE</td><td>FALSE</td><td>FALSE</td><td>FALSE</td><td>FALSE</td><td>FALSE</td><td>FALSE</td><td>FALSE</td><td>FALSE</td><td>FALSE</td><td>FALSE</td></tr>\n",
       "\t<tr><td>FALSE</td><td>FALSE</td><td>FALSE</td><td>FALSE</td><td>FALSE</td><td>FALSE</td><td>FALSE</td><td>FALSE</td><td>FALSE</td><td>FALSE</td><td>FALSE</td><td>FALSE</td></tr>\n",
       "\t<tr><td>FALSE</td><td>FALSE</td><td>FALSE</td><td>FALSE</td><td>FALSE</td><td>FALSE</td><td>FALSE</td><td>FALSE</td><td>FALSE</td><td>FALSE</td><td>FALSE</td><td>FALSE</td></tr>\n",
       "\t<tr><td>FALSE</td><td>FALSE</td><td>FALSE</td><td>FALSE</td><td>FALSE</td><td>FALSE</td><td>FALSE</td><td>FALSE</td><td>FALSE</td><td>FALSE</td><td>FALSE</td><td>FALSE</td></tr>\n",
       "\t<tr><td>FALSE</td><td>FALSE</td><td>FALSE</td><td>FALSE</td><td>FALSE</td><td>FALSE</td><td>FALSE</td><td>FALSE</td><td>FALSE</td><td>FALSE</td><td>FALSE</td><td>FALSE</td></tr>\n",
       "\t<tr><td>FALSE</td><td>FALSE</td><td>FALSE</td><td>FALSE</td><td>FALSE</td><td>FALSE</td><td>FALSE</td><td>FALSE</td><td>FALSE</td><td>FALSE</td><td>FALSE</td><td>FALSE</td></tr>\n",
       "\t<tr><td>FALSE</td><td>FALSE</td><td>FALSE</td><td>FALSE</td><td>FALSE</td><td>FALSE</td><td>FALSE</td><td>FALSE</td><td>FALSE</td><td>FALSE</td><td>FALSE</td><td>FALSE</td></tr>\n",
       "\t<tr><td>FALSE</td><td>FALSE</td><td>FALSE</td><td>FALSE</td><td>FALSE</td><td>FALSE</td><td>FALSE</td><td>FALSE</td><td>FALSE</td><td>FALSE</td><td>FALSE</td><td>FALSE</td></tr>\n",
       "\t<tr><td>FALSE</td><td>FALSE</td><td>FALSE</td><td>FALSE</td><td>FALSE</td><td>FALSE</td><td>FALSE</td><td>FALSE</td><td>FALSE</td><td>FALSE</td><td>FALSE</td><td>FALSE</td></tr>\n",
       "\t<tr><td>FALSE</td><td>FALSE</td><td>FALSE</td><td>FALSE</td><td>FALSE</td><td>FALSE</td><td>FALSE</td><td>FALSE</td><td>FALSE</td><td>FALSE</td><td>FALSE</td><td>FALSE</td></tr>\n",
       "\t<tr><td>FALSE</td><td>FALSE</td><td>FALSE</td><td>FALSE</td><td>FALSE</td><td>FALSE</td><td>FALSE</td><td>FALSE</td><td>FALSE</td><td>FALSE</td><td>FALSE</td><td>FALSE</td></tr>\n",
       "\t<tr><td>FALSE</td><td>FALSE</td><td>FALSE</td><td>FALSE</td><td>FALSE</td><td>FALSE</td><td>FALSE</td><td>FALSE</td><td>FALSE</td><td>FALSE</td><td>FALSE</td><td>FALSE</td></tr>\n",
       "\t<tr><td>FALSE</td><td>FALSE</td><td>FALSE</td><td>FALSE</td><td>FALSE</td><td>FALSE</td><td>FALSE</td><td>FALSE</td><td>FALSE</td><td>FALSE</td><td>FALSE</td><td>FALSE</td></tr>\n",
       "\t<tr><td>FALSE</td><td>FALSE</td><td>FALSE</td><td>FALSE</td><td>FALSE</td><td>FALSE</td><td>FALSE</td><td>FALSE</td><td>FALSE</td><td>FALSE</td><td>FALSE</td><td>FALSE</td></tr>\n",
       "\t<tr><td>FALSE</td><td>FALSE</td><td>FALSE</td><td>FALSE</td><td>FALSE</td><td>FALSE</td><td>FALSE</td><td>FALSE</td><td>FALSE</td><td>FALSE</td><td>FALSE</td><td>FALSE</td></tr>\n",
       "\t<tr><td>FALSE</td><td>FALSE</td><td>FALSE</td><td>FALSE</td><td>FALSE</td><td>FALSE</td><td>FALSE</td><td>FALSE</td><td>FALSE</td><td>FALSE</td><td>FALSE</td><td>FALSE</td></tr>\n",
       "\t<tr><td>FALSE</td><td>FALSE</td><td>FALSE</td><td>FALSE</td><td>FALSE</td><td>FALSE</td><td>FALSE</td><td>FALSE</td><td>FALSE</td><td>FALSE</td><td>FALSE</td><td>FALSE</td></tr>\n",
       "\t<tr><td>FALSE</td><td>FALSE</td><td>FALSE</td><td>FALSE</td><td>FALSE</td><td>FALSE</td><td>FALSE</td><td>FALSE</td><td>FALSE</td><td>FALSE</td><td>FALSE</td><td>FALSE</td></tr>\n",
       "\t<tr><td>FALSE</td><td>FALSE</td><td>FALSE</td><td>FALSE</td><td>FALSE</td><td>FALSE</td><td>FALSE</td><td>FALSE</td><td>FALSE</td><td>FALSE</td><td>FALSE</td><td>FALSE</td></tr>\n",
       "\t<tr><td>FALSE</td><td>FALSE</td><td>FALSE</td><td>FALSE</td><td>FALSE</td><td>FALSE</td><td>FALSE</td><td>FALSE</td><td>FALSE</td><td>FALSE</td><td>FALSE</td><td>FALSE</td></tr>\n",
       "\t<tr><td>FALSE</td><td>FALSE</td><td>FALSE</td><td>FALSE</td><td>FALSE</td><td>FALSE</td><td>FALSE</td><td>FALSE</td><td>FALSE</td><td>FALSE</td><td>FALSE</td><td>FALSE</td></tr>\n",
       "\t<tr><td>FALSE</td><td>FALSE</td><td>FALSE</td><td>FALSE</td><td>FALSE</td><td>FALSE</td><td>FALSE</td><td>FALSE</td><td>FALSE</td><td>FALSE</td><td>FALSE</td><td>FALSE</td></tr>\n",
       "\t<tr><td>FALSE</td><td>FALSE</td><td>FALSE</td><td>FALSE</td><td>FALSE</td><td>FALSE</td><td>FALSE</td><td>FALSE</td><td>FALSE</td><td>FALSE</td><td>FALSE</td><td>FALSE</td></tr>\n",
       "\t<tr><td>FALSE</td><td>FALSE</td><td>FALSE</td><td>FALSE</td><td>FALSE</td><td>FALSE</td><td>FALSE</td><td>FALSE</td><td>FALSE</td><td>FALSE</td><td>FALSE</td><td>FALSE</td></tr>\n",
       "\t<tr><td>FALSE</td><td>FALSE</td><td>FALSE</td><td>FALSE</td><td>FALSE</td><td>FALSE</td><td>FALSE</td><td>FALSE</td><td>FALSE</td><td>FALSE</td><td>FALSE</td><td>FALSE</td></tr>\n",
       "\t<tr><td>FALSE</td><td>FALSE</td><td>FALSE</td><td>FALSE</td><td>FALSE</td><td>FALSE</td><td>FALSE</td><td>FALSE</td><td>FALSE</td><td>FALSE</td><td>FALSE</td><td>FALSE</td></tr>\n",
       "\t<tr><td>FALSE</td><td>FALSE</td><td>FALSE</td><td>FALSE</td><td>FALSE</td><td>FALSE</td><td>FALSE</td><td>FALSE</td><td>FALSE</td><td>FALSE</td><td>FALSE</td><td>FALSE</td></tr>\n",
       "\t<tr><td>FALSE</td><td>FALSE</td><td>FALSE</td><td>FALSE</td><td>FALSE</td><td>FALSE</td><td>FALSE</td><td>FALSE</td><td>FALSE</td><td>FALSE</td><td>FALSE</td><td>FALSE</td></tr>\n",
       "\t<tr><td>FALSE</td><td>FALSE</td><td>FALSE</td><td>FALSE</td><td>FALSE</td><td>FALSE</td><td>FALSE</td><td>FALSE</td><td>FALSE</td><td>FALSE</td><td>FALSE</td><td>FALSE</td></tr>\n",
       "\t<tr><td>⋮</td><td>⋮</td><td>⋮</td><td>⋮</td><td>⋮</td><td>⋮</td><td>⋮</td><td>⋮</td><td>⋮</td><td>⋮</td><td>⋮</td><td>⋮</td></tr>\n",
       "\t<tr><td>FALSE</td><td>FALSE</td><td>FALSE</td><td>FALSE</td><td>FALSE</td><td>FALSE</td><td>FALSE</td><td>FALSE</td><td>FALSE</td><td>FALSE</td><td>FALSE</td><td>FALSE</td></tr>\n",
       "\t<tr><td>FALSE</td><td>FALSE</td><td>FALSE</td><td>FALSE</td><td>FALSE</td><td>FALSE</td><td>FALSE</td><td> TRUE</td><td>FALSE</td><td>FALSE</td><td>FALSE</td><td>FALSE</td></tr>\n",
       "\t<tr><td>FALSE</td><td>FALSE</td><td>FALSE</td><td>FALSE</td><td>FALSE</td><td>FALSE</td><td>FALSE</td><td> TRUE</td><td>FALSE</td><td>FALSE</td><td>FALSE</td><td>FALSE</td></tr>\n",
       "\t<tr><td>FALSE</td><td>FALSE</td><td>FALSE</td><td>FALSE</td><td>FALSE</td><td>FALSE</td><td>FALSE</td><td>FALSE</td><td>FALSE</td><td>FALSE</td><td>FALSE</td><td>FALSE</td></tr>\n",
       "\t<tr><td>FALSE</td><td>FALSE</td><td>FALSE</td><td>FALSE</td><td>FALSE</td><td>FALSE</td><td>FALSE</td><td>FALSE</td><td>FALSE</td><td>FALSE</td><td>FALSE</td><td>FALSE</td></tr>\n",
       "\t<tr><td>FALSE</td><td>FALSE</td><td>FALSE</td><td>FALSE</td><td>FALSE</td><td>FALSE</td><td>FALSE</td><td>FALSE</td><td>FALSE</td><td>FALSE</td><td>FALSE</td><td>FALSE</td></tr>\n",
       "\t<tr><td>FALSE</td><td>FALSE</td><td>FALSE</td><td>FALSE</td><td>FALSE</td><td>FALSE</td><td>FALSE</td><td>FALSE</td><td>FALSE</td><td>FALSE</td><td>FALSE</td><td>FALSE</td></tr>\n",
       "\t<tr><td>FALSE</td><td>FALSE</td><td>FALSE</td><td>FALSE</td><td>FALSE</td><td>FALSE</td><td>FALSE</td><td>FALSE</td><td>FALSE</td><td>FALSE</td><td>FALSE</td><td>FALSE</td></tr>\n",
       "\t<tr><td>FALSE</td><td>FALSE</td><td>FALSE</td><td>FALSE</td><td>FALSE</td><td>FALSE</td><td>FALSE</td><td>FALSE</td><td>FALSE</td><td>FALSE</td><td>FALSE</td><td>FALSE</td></tr>\n",
       "\t<tr><td>FALSE</td><td>FALSE</td><td>FALSE</td><td>FALSE</td><td>FALSE</td><td>FALSE</td><td>FALSE</td><td>FALSE</td><td>FALSE</td><td>FALSE</td><td>FALSE</td><td>FALSE</td></tr>\n",
       "\t<tr><td>FALSE</td><td>FALSE</td><td>FALSE</td><td>FALSE</td><td>FALSE</td><td>FALSE</td><td>FALSE</td><td>FALSE</td><td>FALSE</td><td>FALSE</td><td>FALSE</td><td>FALSE</td></tr>\n",
       "\t<tr><td>FALSE</td><td>FALSE</td><td>FALSE</td><td>FALSE</td><td>FALSE</td><td>FALSE</td><td>FALSE</td><td>FALSE</td><td>FALSE</td><td>FALSE</td><td>FALSE</td><td>FALSE</td></tr>\n",
       "\t<tr><td>FALSE</td><td>FALSE</td><td>FALSE</td><td>FALSE</td><td>FALSE</td><td>FALSE</td><td>FALSE</td><td>FALSE</td><td>FALSE</td><td>FALSE</td><td>FALSE</td><td>FALSE</td></tr>\n",
       "\t<tr><td>FALSE</td><td>FALSE</td><td>FALSE</td><td>FALSE</td><td>FALSE</td><td>FALSE</td><td>FALSE</td><td>FALSE</td><td>FALSE</td><td>FALSE</td><td>FALSE</td><td>FALSE</td></tr>\n",
       "\t<tr><td>FALSE</td><td>FALSE</td><td>FALSE</td><td>FALSE</td><td>FALSE</td><td>FALSE</td><td>FALSE</td><td>FALSE</td><td>FALSE</td><td>FALSE</td><td>FALSE</td><td>FALSE</td></tr>\n",
       "\t<tr><td>FALSE</td><td>FALSE</td><td>FALSE</td><td>FALSE</td><td>FALSE</td><td>FALSE</td><td>FALSE</td><td>FALSE</td><td>FALSE</td><td>FALSE</td><td>FALSE</td><td>FALSE</td></tr>\n",
       "\t<tr><td>FALSE</td><td>FALSE</td><td>FALSE</td><td>FALSE</td><td>FALSE</td><td>FALSE</td><td>FALSE</td><td>FALSE</td><td>FALSE</td><td>FALSE</td><td>FALSE</td><td>FALSE</td></tr>\n",
       "\t<tr><td>FALSE</td><td>FALSE</td><td>FALSE</td><td>FALSE</td><td>FALSE</td><td>FALSE</td><td>FALSE</td><td>FALSE</td><td>FALSE</td><td>FALSE</td><td>FALSE</td><td>FALSE</td></tr>\n",
       "\t<tr><td>FALSE</td><td>FALSE</td><td>FALSE</td><td>FALSE</td><td>FALSE</td><td>FALSE</td><td>FALSE</td><td> TRUE</td><td>FALSE</td><td>FALSE</td><td>FALSE</td><td>FALSE</td></tr>\n",
       "\t<tr><td>FALSE</td><td>FALSE</td><td>FALSE</td><td>FALSE</td><td>FALSE</td><td>FALSE</td><td>FALSE</td><td> TRUE</td><td>FALSE</td><td>FALSE</td><td>FALSE</td><td>FALSE</td></tr>\n",
       "\t<tr><td>FALSE</td><td>FALSE</td><td>FALSE</td><td>FALSE</td><td>FALSE</td><td>FALSE</td><td>FALSE</td><td>FALSE</td><td>FALSE</td><td>FALSE</td><td>FALSE</td><td>FALSE</td></tr>\n",
       "\t<tr><td>FALSE</td><td>FALSE</td><td>FALSE</td><td>FALSE</td><td>FALSE</td><td>FALSE</td><td>FALSE</td><td>FALSE</td><td>FALSE</td><td>FALSE</td><td>FALSE</td><td>FALSE</td></tr>\n",
       "\t<tr><td>FALSE</td><td>FALSE</td><td>FALSE</td><td>FALSE</td><td>FALSE</td><td>FALSE</td><td>FALSE</td><td>FALSE</td><td>FALSE</td><td>FALSE</td><td>FALSE</td><td>FALSE</td></tr>\n",
       "\t<tr><td>FALSE</td><td>FALSE</td><td>FALSE</td><td>FALSE</td><td>FALSE</td><td>FALSE</td><td>FALSE</td><td>FALSE</td><td>FALSE</td><td>FALSE</td><td>FALSE</td><td>FALSE</td></tr>\n",
       "\t<tr><td>FALSE</td><td>FALSE</td><td>FALSE</td><td>FALSE</td><td>FALSE</td><td>FALSE</td><td>FALSE</td><td>FALSE</td><td>FALSE</td><td>FALSE</td><td>FALSE</td><td>FALSE</td></tr>\n",
       "\t<tr><td>FALSE</td><td>FALSE</td><td>FALSE</td><td>FALSE</td><td>FALSE</td><td>FALSE</td><td>FALSE</td><td>FALSE</td><td>FALSE</td><td>FALSE</td><td>FALSE</td><td>FALSE</td></tr>\n",
       "\t<tr><td>FALSE</td><td>FALSE</td><td>FALSE</td><td>FALSE</td><td>FALSE</td><td>FALSE</td><td>FALSE</td><td>FALSE</td><td>FALSE</td><td>FALSE</td><td>FALSE</td><td>FALSE</td></tr>\n",
       "\t<tr><td>FALSE</td><td>FALSE</td><td>FALSE</td><td>FALSE</td><td>FALSE</td><td>FALSE</td><td>FALSE</td><td>FALSE</td><td>FALSE</td><td>FALSE</td><td>FALSE</td><td>FALSE</td></tr>\n",
       "\t<tr><td>FALSE</td><td>FALSE</td><td>FALSE</td><td>FALSE</td><td>FALSE</td><td>FALSE</td><td>FALSE</td><td>FALSE</td><td>FALSE</td><td>FALSE</td><td>FALSE</td><td>FALSE</td></tr>\n",
       "\t<tr><td>FALSE</td><td>FALSE</td><td>FALSE</td><td>FALSE</td><td>FALSE</td><td>FALSE</td><td>FALSE</td><td>FALSE</td><td>FALSE</td><td>FALSE</td><td>FALSE</td><td>FALSE</td></tr>\n",
       "</tbody>\n",
       "</table>\n"
      ],
      "text/latex": [
       "A matrix: 32581 × 12 of type lgl\n",
       "\\begin{tabular}{llllllllllll}\n",
       " person\\_age & person\\_income & person\\_home\\_ownership & person\\_emp\\_length & loan\\_intent & loan\\_grade & loan\\_amnt & loan\\_int\\_rate & loan\\_status & loan\\_percent\\_income & cb\\_person\\_default\\_on\\_file & cb\\_person\\_cred\\_hist\\_length\\\\\n",
       "\\hline\n",
       "\t FALSE & FALSE & FALSE & FALSE & FALSE & FALSE & FALSE & FALSE & FALSE & FALSE & FALSE & FALSE\\\\\n",
       "\t FALSE & FALSE & FALSE & FALSE & FALSE & FALSE & FALSE & FALSE & FALSE & FALSE & FALSE & FALSE\\\\\n",
       "\t FALSE & FALSE & FALSE & FALSE & FALSE & FALSE & FALSE & FALSE & FALSE & FALSE & FALSE & FALSE\\\\\n",
       "\t FALSE & FALSE & FALSE & FALSE & FALSE & FALSE & FALSE & FALSE & FALSE & FALSE & FALSE & FALSE\\\\\n",
       "\t FALSE & FALSE & FALSE & FALSE & FALSE & FALSE & FALSE & FALSE & FALSE & FALSE & FALSE & FALSE\\\\\n",
       "\t FALSE & FALSE & FALSE & FALSE & FALSE & FALSE & FALSE & FALSE & FALSE & FALSE & FALSE & FALSE\\\\\n",
       "\t FALSE & FALSE & FALSE & FALSE & FALSE & FALSE & FALSE & FALSE & FALSE & FALSE & FALSE & FALSE\\\\\n",
       "\t FALSE & FALSE & FALSE & FALSE & FALSE & FALSE & FALSE & FALSE & FALSE & FALSE & FALSE & FALSE\\\\\n",
       "\t FALSE & FALSE & FALSE & FALSE & FALSE & FALSE & FALSE & FALSE & FALSE & FALSE & FALSE & FALSE\\\\\n",
       "\t FALSE & FALSE & FALSE & FALSE & FALSE & FALSE & FALSE & FALSE & FALSE & FALSE & FALSE & FALSE\\\\\n",
       "\t FALSE & FALSE & FALSE & FALSE & FALSE & FALSE & FALSE & FALSE & FALSE & FALSE & FALSE & FALSE\\\\\n",
       "\t FALSE & FALSE & FALSE & FALSE & FALSE & FALSE & FALSE & FALSE & FALSE & FALSE & FALSE & FALSE\\\\\n",
       "\t FALSE & FALSE & FALSE & FALSE & FALSE & FALSE & FALSE & FALSE & FALSE & FALSE & FALSE & FALSE\\\\\n",
       "\t FALSE & FALSE & FALSE & FALSE & FALSE & FALSE & FALSE & FALSE & FALSE & FALSE & FALSE & FALSE\\\\\n",
       "\t FALSE & FALSE & FALSE & FALSE & FALSE & FALSE & FALSE & FALSE & FALSE & FALSE & FALSE & FALSE\\\\\n",
       "\t FALSE & FALSE & FALSE & FALSE & FALSE & FALSE & FALSE & FALSE & FALSE & FALSE & FALSE & FALSE\\\\\n",
       "\t FALSE & FALSE & FALSE & FALSE & FALSE & FALSE & FALSE & FALSE & FALSE & FALSE & FALSE & FALSE\\\\\n",
       "\t FALSE & FALSE & FALSE & FALSE & FALSE & FALSE & FALSE & FALSE & FALSE & FALSE & FALSE & FALSE\\\\\n",
       "\t FALSE & FALSE & FALSE & FALSE & FALSE & FALSE & FALSE & FALSE & FALSE & FALSE & FALSE & FALSE\\\\\n",
       "\t FALSE & FALSE & FALSE & FALSE & FALSE & FALSE & FALSE & FALSE & FALSE & FALSE & FALSE & FALSE\\\\\n",
       "\t FALSE & FALSE & FALSE & FALSE & FALSE & FALSE & FALSE & FALSE & FALSE & FALSE & FALSE & FALSE\\\\\n",
       "\t FALSE & FALSE & FALSE & FALSE & FALSE & FALSE & FALSE & FALSE & FALSE & FALSE & FALSE & FALSE\\\\\n",
       "\t FALSE & FALSE & FALSE & FALSE & FALSE & FALSE & FALSE & FALSE & FALSE & FALSE & FALSE & FALSE\\\\\n",
       "\t FALSE & FALSE & FALSE & FALSE & FALSE & FALSE & FALSE & FALSE & FALSE & FALSE & FALSE & FALSE\\\\\n",
       "\t FALSE & FALSE & FALSE & FALSE & FALSE & FALSE & FALSE & FALSE & FALSE & FALSE & FALSE & FALSE\\\\\n",
       "\t FALSE & FALSE & FALSE & FALSE & FALSE & FALSE & FALSE & FALSE & FALSE & FALSE & FALSE & FALSE\\\\\n",
       "\t FALSE & FALSE & FALSE & FALSE & FALSE & FALSE & FALSE & FALSE & FALSE & FALSE & FALSE & FALSE\\\\\n",
       "\t FALSE & FALSE & FALSE & FALSE & FALSE & FALSE & FALSE & FALSE & FALSE & FALSE & FALSE & FALSE\\\\\n",
       "\t FALSE & FALSE & FALSE & FALSE & FALSE & FALSE & FALSE & FALSE & FALSE & FALSE & FALSE & FALSE\\\\\n",
       "\t FALSE & FALSE & FALSE & FALSE & FALSE & FALSE & FALSE & FALSE & FALSE & FALSE & FALSE & FALSE\\\\\n",
       "\t ⋮ & ⋮ & ⋮ & ⋮ & ⋮ & ⋮ & ⋮ & ⋮ & ⋮ & ⋮ & ⋮ & ⋮\\\\\n",
       "\t FALSE & FALSE & FALSE & FALSE & FALSE & FALSE & FALSE & FALSE & FALSE & FALSE & FALSE & FALSE\\\\\n",
       "\t FALSE & FALSE & FALSE & FALSE & FALSE & FALSE & FALSE &  TRUE & FALSE & FALSE & FALSE & FALSE\\\\\n",
       "\t FALSE & FALSE & FALSE & FALSE & FALSE & FALSE & FALSE &  TRUE & FALSE & FALSE & FALSE & FALSE\\\\\n",
       "\t FALSE & FALSE & FALSE & FALSE & FALSE & FALSE & FALSE & FALSE & FALSE & FALSE & FALSE & FALSE\\\\\n",
       "\t FALSE & FALSE & FALSE & FALSE & FALSE & FALSE & FALSE & FALSE & FALSE & FALSE & FALSE & FALSE\\\\\n",
       "\t FALSE & FALSE & FALSE & FALSE & FALSE & FALSE & FALSE & FALSE & FALSE & FALSE & FALSE & FALSE\\\\\n",
       "\t FALSE & FALSE & FALSE & FALSE & FALSE & FALSE & FALSE & FALSE & FALSE & FALSE & FALSE & FALSE\\\\\n",
       "\t FALSE & FALSE & FALSE & FALSE & FALSE & FALSE & FALSE & FALSE & FALSE & FALSE & FALSE & FALSE\\\\\n",
       "\t FALSE & FALSE & FALSE & FALSE & FALSE & FALSE & FALSE & FALSE & FALSE & FALSE & FALSE & FALSE\\\\\n",
       "\t FALSE & FALSE & FALSE & FALSE & FALSE & FALSE & FALSE & FALSE & FALSE & FALSE & FALSE & FALSE\\\\\n",
       "\t FALSE & FALSE & FALSE & FALSE & FALSE & FALSE & FALSE & FALSE & FALSE & FALSE & FALSE & FALSE\\\\\n",
       "\t FALSE & FALSE & FALSE & FALSE & FALSE & FALSE & FALSE & FALSE & FALSE & FALSE & FALSE & FALSE\\\\\n",
       "\t FALSE & FALSE & FALSE & FALSE & FALSE & FALSE & FALSE & FALSE & FALSE & FALSE & FALSE & FALSE\\\\\n",
       "\t FALSE & FALSE & FALSE & FALSE & FALSE & FALSE & FALSE & FALSE & FALSE & FALSE & FALSE & FALSE\\\\\n",
       "\t FALSE & FALSE & FALSE & FALSE & FALSE & FALSE & FALSE & FALSE & FALSE & FALSE & FALSE & FALSE\\\\\n",
       "\t FALSE & FALSE & FALSE & FALSE & FALSE & FALSE & FALSE & FALSE & FALSE & FALSE & FALSE & FALSE\\\\\n",
       "\t FALSE & FALSE & FALSE & FALSE & FALSE & FALSE & FALSE & FALSE & FALSE & FALSE & FALSE & FALSE\\\\\n",
       "\t FALSE & FALSE & FALSE & FALSE & FALSE & FALSE & FALSE & FALSE & FALSE & FALSE & FALSE & FALSE\\\\\n",
       "\t FALSE & FALSE & FALSE & FALSE & FALSE & FALSE & FALSE &  TRUE & FALSE & FALSE & FALSE & FALSE\\\\\n",
       "\t FALSE & FALSE & FALSE & FALSE & FALSE & FALSE & FALSE &  TRUE & FALSE & FALSE & FALSE & FALSE\\\\\n",
       "\t FALSE & FALSE & FALSE & FALSE & FALSE & FALSE & FALSE & FALSE & FALSE & FALSE & FALSE & FALSE\\\\\n",
       "\t FALSE & FALSE & FALSE & FALSE & FALSE & FALSE & FALSE & FALSE & FALSE & FALSE & FALSE & FALSE\\\\\n",
       "\t FALSE & FALSE & FALSE & FALSE & FALSE & FALSE & FALSE & FALSE & FALSE & FALSE & FALSE & FALSE\\\\\n",
       "\t FALSE & FALSE & FALSE & FALSE & FALSE & FALSE & FALSE & FALSE & FALSE & FALSE & FALSE & FALSE\\\\\n",
       "\t FALSE & FALSE & FALSE & FALSE & FALSE & FALSE & FALSE & FALSE & FALSE & FALSE & FALSE & FALSE\\\\\n",
       "\t FALSE & FALSE & FALSE & FALSE & FALSE & FALSE & FALSE & FALSE & FALSE & FALSE & FALSE & FALSE\\\\\n",
       "\t FALSE & FALSE & FALSE & FALSE & FALSE & FALSE & FALSE & FALSE & FALSE & FALSE & FALSE & FALSE\\\\\n",
       "\t FALSE & FALSE & FALSE & FALSE & FALSE & FALSE & FALSE & FALSE & FALSE & FALSE & FALSE & FALSE\\\\\n",
       "\t FALSE & FALSE & FALSE & FALSE & FALSE & FALSE & FALSE & FALSE & FALSE & FALSE & FALSE & FALSE\\\\\n",
       "\t FALSE & FALSE & FALSE & FALSE & FALSE & FALSE & FALSE & FALSE & FALSE & FALSE & FALSE & FALSE\\\\\n",
       "\\end{tabular}\n"
      ],
      "text/markdown": [
       "\n",
       "A matrix: 32581 × 12 of type lgl\n",
       "\n",
       "| person_age | person_income | person_home_ownership | person_emp_length | loan_intent | loan_grade | loan_amnt | loan_int_rate | loan_status | loan_percent_income | cb_person_default_on_file | cb_person_cred_hist_length |\n",
       "|---|---|---|---|---|---|---|---|---|---|---|---|\n",
       "| FALSE | FALSE | FALSE | FALSE | FALSE | FALSE | FALSE | FALSE | FALSE | FALSE | FALSE | FALSE |\n",
       "| FALSE | FALSE | FALSE | FALSE | FALSE | FALSE | FALSE | FALSE | FALSE | FALSE | FALSE | FALSE |\n",
       "| FALSE | FALSE | FALSE | FALSE | FALSE | FALSE | FALSE | FALSE | FALSE | FALSE | FALSE | FALSE |\n",
       "| FALSE | FALSE | FALSE | FALSE | FALSE | FALSE | FALSE | FALSE | FALSE | FALSE | FALSE | FALSE |\n",
       "| FALSE | FALSE | FALSE | FALSE | FALSE | FALSE | FALSE | FALSE | FALSE | FALSE | FALSE | FALSE |\n",
       "| FALSE | FALSE | FALSE | FALSE | FALSE | FALSE | FALSE | FALSE | FALSE | FALSE | FALSE | FALSE |\n",
       "| FALSE | FALSE | FALSE | FALSE | FALSE | FALSE | FALSE | FALSE | FALSE | FALSE | FALSE | FALSE |\n",
       "| FALSE | FALSE | FALSE | FALSE | FALSE | FALSE | FALSE | FALSE | FALSE | FALSE | FALSE | FALSE |\n",
       "| FALSE | FALSE | FALSE | FALSE | FALSE | FALSE | FALSE | FALSE | FALSE | FALSE | FALSE | FALSE |\n",
       "| FALSE | FALSE | FALSE | FALSE | FALSE | FALSE | FALSE | FALSE | FALSE | FALSE | FALSE | FALSE |\n",
       "| FALSE | FALSE | FALSE | FALSE | FALSE | FALSE | FALSE | FALSE | FALSE | FALSE | FALSE | FALSE |\n",
       "| FALSE | FALSE | FALSE | FALSE | FALSE | FALSE | FALSE | FALSE | FALSE | FALSE | FALSE | FALSE |\n",
       "| FALSE | FALSE | FALSE | FALSE | FALSE | FALSE | FALSE | FALSE | FALSE | FALSE | FALSE | FALSE |\n",
       "| FALSE | FALSE | FALSE | FALSE | FALSE | FALSE | FALSE | FALSE | FALSE | FALSE | FALSE | FALSE |\n",
       "| FALSE | FALSE | FALSE | FALSE | FALSE | FALSE | FALSE | FALSE | FALSE | FALSE | FALSE | FALSE |\n",
       "| FALSE | FALSE | FALSE | FALSE | FALSE | FALSE | FALSE | FALSE | FALSE | FALSE | FALSE | FALSE |\n",
       "| FALSE | FALSE | FALSE | FALSE | FALSE | FALSE | FALSE | FALSE | FALSE | FALSE | FALSE | FALSE |\n",
       "| FALSE | FALSE | FALSE | FALSE | FALSE | FALSE | FALSE | FALSE | FALSE | FALSE | FALSE | FALSE |\n",
       "| FALSE | FALSE | FALSE | FALSE | FALSE | FALSE | FALSE | FALSE | FALSE | FALSE | FALSE | FALSE |\n",
       "| FALSE | FALSE | FALSE | FALSE | FALSE | FALSE | FALSE | FALSE | FALSE | FALSE | FALSE | FALSE |\n",
       "| FALSE | FALSE | FALSE | FALSE | FALSE | FALSE | FALSE | FALSE | FALSE | FALSE | FALSE | FALSE |\n",
       "| FALSE | FALSE | FALSE | FALSE | FALSE | FALSE | FALSE | FALSE | FALSE | FALSE | FALSE | FALSE |\n",
       "| FALSE | FALSE | FALSE | FALSE | FALSE | FALSE | FALSE | FALSE | FALSE | FALSE | FALSE | FALSE |\n",
       "| FALSE | FALSE | FALSE | FALSE | FALSE | FALSE | FALSE | FALSE | FALSE | FALSE | FALSE | FALSE |\n",
       "| FALSE | FALSE | FALSE | FALSE | FALSE | FALSE | FALSE | FALSE | FALSE | FALSE | FALSE | FALSE |\n",
       "| FALSE | FALSE | FALSE | FALSE | FALSE | FALSE | FALSE | FALSE | FALSE | FALSE | FALSE | FALSE |\n",
       "| FALSE | FALSE | FALSE | FALSE | FALSE | FALSE | FALSE | FALSE | FALSE | FALSE | FALSE | FALSE |\n",
       "| FALSE | FALSE | FALSE | FALSE | FALSE | FALSE | FALSE | FALSE | FALSE | FALSE | FALSE | FALSE |\n",
       "| FALSE | FALSE | FALSE | FALSE | FALSE | FALSE | FALSE | FALSE | FALSE | FALSE | FALSE | FALSE |\n",
       "| FALSE | FALSE | FALSE | FALSE | FALSE | FALSE | FALSE | FALSE | FALSE | FALSE | FALSE | FALSE |\n",
       "| ⋮ | ⋮ | ⋮ | ⋮ | ⋮ | ⋮ | ⋮ | ⋮ | ⋮ | ⋮ | ⋮ | ⋮ |\n",
       "| FALSE | FALSE | FALSE | FALSE | FALSE | FALSE | FALSE | FALSE | FALSE | FALSE | FALSE | FALSE |\n",
       "| FALSE | FALSE | FALSE | FALSE | FALSE | FALSE | FALSE |  TRUE | FALSE | FALSE | FALSE | FALSE |\n",
       "| FALSE | FALSE | FALSE | FALSE | FALSE | FALSE | FALSE |  TRUE | FALSE | FALSE | FALSE | FALSE |\n",
       "| FALSE | FALSE | FALSE | FALSE | FALSE | FALSE | FALSE | FALSE | FALSE | FALSE | FALSE | FALSE |\n",
       "| FALSE | FALSE | FALSE | FALSE | FALSE | FALSE | FALSE | FALSE | FALSE | FALSE | FALSE | FALSE |\n",
       "| FALSE | FALSE | FALSE | FALSE | FALSE | FALSE | FALSE | FALSE | FALSE | FALSE | FALSE | FALSE |\n",
       "| FALSE | FALSE | FALSE | FALSE | FALSE | FALSE | FALSE | FALSE | FALSE | FALSE | FALSE | FALSE |\n",
       "| FALSE | FALSE | FALSE | FALSE | FALSE | FALSE | FALSE | FALSE | FALSE | FALSE | FALSE | FALSE |\n",
       "| FALSE | FALSE | FALSE | FALSE | FALSE | FALSE | FALSE | FALSE | FALSE | FALSE | FALSE | FALSE |\n",
       "| FALSE | FALSE | FALSE | FALSE | FALSE | FALSE | FALSE | FALSE | FALSE | FALSE | FALSE | FALSE |\n",
       "| FALSE | FALSE | FALSE | FALSE | FALSE | FALSE | FALSE | FALSE | FALSE | FALSE | FALSE | FALSE |\n",
       "| FALSE | FALSE | FALSE | FALSE | FALSE | FALSE | FALSE | FALSE | FALSE | FALSE | FALSE | FALSE |\n",
       "| FALSE | FALSE | FALSE | FALSE | FALSE | FALSE | FALSE | FALSE | FALSE | FALSE | FALSE | FALSE |\n",
       "| FALSE | FALSE | FALSE | FALSE | FALSE | FALSE | FALSE | FALSE | FALSE | FALSE | FALSE | FALSE |\n",
       "| FALSE | FALSE | FALSE | FALSE | FALSE | FALSE | FALSE | FALSE | FALSE | FALSE | FALSE | FALSE |\n",
       "| FALSE | FALSE | FALSE | FALSE | FALSE | FALSE | FALSE | FALSE | FALSE | FALSE | FALSE | FALSE |\n",
       "| FALSE | FALSE | FALSE | FALSE | FALSE | FALSE | FALSE | FALSE | FALSE | FALSE | FALSE | FALSE |\n",
       "| FALSE | FALSE | FALSE | FALSE | FALSE | FALSE | FALSE | FALSE | FALSE | FALSE | FALSE | FALSE |\n",
       "| FALSE | FALSE | FALSE | FALSE | FALSE | FALSE | FALSE |  TRUE | FALSE | FALSE | FALSE | FALSE |\n",
       "| FALSE | FALSE | FALSE | FALSE | FALSE | FALSE | FALSE |  TRUE | FALSE | FALSE | FALSE | FALSE |\n",
       "| FALSE | FALSE | FALSE | FALSE | FALSE | FALSE | FALSE | FALSE | FALSE | FALSE | FALSE | FALSE |\n",
       "| FALSE | FALSE | FALSE | FALSE | FALSE | FALSE | FALSE | FALSE | FALSE | FALSE | FALSE | FALSE |\n",
       "| FALSE | FALSE | FALSE | FALSE | FALSE | FALSE | FALSE | FALSE | FALSE | FALSE | FALSE | FALSE |\n",
       "| FALSE | FALSE | FALSE | FALSE | FALSE | FALSE | FALSE | FALSE | FALSE | FALSE | FALSE | FALSE |\n",
       "| FALSE | FALSE | FALSE | FALSE | FALSE | FALSE | FALSE | FALSE | FALSE | FALSE | FALSE | FALSE |\n",
       "| FALSE | FALSE | FALSE | FALSE | FALSE | FALSE | FALSE | FALSE | FALSE | FALSE | FALSE | FALSE |\n",
       "| FALSE | FALSE | FALSE | FALSE | FALSE | FALSE | FALSE | FALSE | FALSE | FALSE | FALSE | FALSE |\n",
       "| FALSE | FALSE | FALSE | FALSE | FALSE | FALSE | FALSE | FALSE | FALSE | FALSE | FALSE | FALSE |\n",
       "| FALSE | FALSE | FALSE | FALSE | FALSE | FALSE | FALSE | FALSE | FALSE | FALSE | FALSE | FALSE |\n",
       "| FALSE | FALSE | FALSE | FALSE | FALSE | FALSE | FALSE | FALSE | FALSE | FALSE | FALSE | FALSE |\n",
       "\n"
      ],
      "text/plain": [
       "      person_age person_income person_home_ownership person_emp_length\n",
       " [1,] FALSE      FALSE         FALSE                 FALSE            \n",
       " [2,] FALSE      FALSE         FALSE                 FALSE            \n",
       " [3,] FALSE      FALSE         FALSE                 FALSE            \n",
       " [4,] FALSE      FALSE         FALSE                 FALSE            \n",
       " [5,] FALSE      FALSE         FALSE                 FALSE            \n",
       " [6,] FALSE      FALSE         FALSE                 FALSE            \n",
       " [7,] FALSE      FALSE         FALSE                 FALSE            \n",
       " [8,] FALSE      FALSE         FALSE                 FALSE            \n",
       " [9,] FALSE      FALSE         FALSE                 FALSE            \n",
       "[10,] FALSE      FALSE         FALSE                 FALSE            \n",
       "[11,] FALSE      FALSE         FALSE                 FALSE            \n",
       "[12,] FALSE      FALSE         FALSE                 FALSE            \n",
       "[13,] FALSE      FALSE         FALSE                 FALSE            \n",
       "[14,] FALSE      FALSE         FALSE                 FALSE            \n",
       "[15,] FALSE      FALSE         FALSE                 FALSE            \n",
       "[16,] FALSE      FALSE         FALSE                 FALSE            \n",
       "[17,] FALSE      FALSE         FALSE                 FALSE            \n",
       "[18,] FALSE      FALSE         FALSE                 FALSE            \n",
       "[19,] FALSE      FALSE         FALSE                 FALSE            \n",
       "[20,] FALSE      FALSE         FALSE                 FALSE            \n",
       "[21,] FALSE      FALSE         FALSE                 FALSE            \n",
       "[22,] FALSE      FALSE         FALSE                 FALSE            \n",
       "[23,] FALSE      FALSE         FALSE                 FALSE            \n",
       "[24,] FALSE      FALSE         FALSE                 FALSE            \n",
       "[25,] FALSE      FALSE         FALSE                 FALSE            \n",
       "[26,] FALSE      FALSE         FALSE                 FALSE            \n",
       "[27,] FALSE      FALSE         FALSE                 FALSE            \n",
       "[28,] FALSE      FALSE         FALSE                 FALSE            \n",
       "[29,] FALSE      FALSE         FALSE                 FALSE            \n",
       "[30,] FALSE      FALSE         FALSE                 FALSE            \n",
       "[31,] ⋮          ⋮             ⋮                     ⋮                \n",
       "[32,] FALSE      FALSE         FALSE                 FALSE            \n",
       "[33,] FALSE      FALSE         FALSE                 FALSE            \n",
       "[34,] FALSE      FALSE         FALSE                 FALSE            \n",
       "[35,] FALSE      FALSE         FALSE                 FALSE            \n",
       "[36,] FALSE      FALSE         FALSE                 FALSE            \n",
       "[37,] FALSE      FALSE         FALSE                 FALSE            \n",
       "[38,] FALSE      FALSE         FALSE                 FALSE            \n",
       "[39,] FALSE      FALSE         FALSE                 FALSE            \n",
       "[40,] FALSE      FALSE         FALSE                 FALSE            \n",
       "[41,] FALSE      FALSE         FALSE                 FALSE            \n",
       "[42,] FALSE      FALSE         FALSE                 FALSE            \n",
       "[43,] FALSE      FALSE         FALSE                 FALSE            \n",
       "[44,] FALSE      FALSE         FALSE                 FALSE            \n",
       "[45,] FALSE      FALSE         FALSE                 FALSE            \n",
       "[46,] FALSE      FALSE         FALSE                 FALSE            \n",
       "[47,] FALSE      FALSE         FALSE                 FALSE            \n",
       "[48,] FALSE      FALSE         FALSE                 FALSE            \n",
       "[49,] FALSE      FALSE         FALSE                 FALSE            \n",
       "[50,] FALSE      FALSE         FALSE                 FALSE            \n",
       "[51,] FALSE      FALSE         FALSE                 FALSE            \n",
       "[52,] FALSE      FALSE         FALSE                 FALSE            \n",
       "[53,] FALSE      FALSE         FALSE                 FALSE            \n",
       "[54,] FALSE      FALSE         FALSE                 FALSE            \n",
       "[55,] FALSE      FALSE         FALSE                 FALSE            \n",
       "[56,] FALSE      FALSE         FALSE                 FALSE            \n",
       "[57,] FALSE      FALSE         FALSE                 FALSE            \n",
       "[58,] FALSE      FALSE         FALSE                 FALSE            \n",
       "[59,] FALSE      FALSE         FALSE                 FALSE            \n",
       "[60,] FALSE      FALSE         FALSE                 FALSE            \n",
       "[61,] FALSE      FALSE         FALSE                 FALSE            \n",
       "      loan_intent loan_grade loan_amnt loan_int_rate loan_status\n",
       " [1,] FALSE       FALSE      FALSE     FALSE         FALSE      \n",
       " [2,] FALSE       FALSE      FALSE     FALSE         FALSE      \n",
       " [3,] FALSE       FALSE      FALSE     FALSE         FALSE      \n",
       " [4,] FALSE       FALSE      FALSE     FALSE         FALSE      \n",
       " [5,] FALSE       FALSE      FALSE     FALSE         FALSE      \n",
       " [6,] FALSE       FALSE      FALSE     FALSE         FALSE      \n",
       " [7,] FALSE       FALSE      FALSE     FALSE         FALSE      \n",
       " [8,] FALSE       FALSE      FALSE     FALSE         FALSE      \n",
       " [9,] FALSE       FALSE      FALSE     FALSE         FALSE      \n",
       "[10,] FALSE       FALSE      FALSE     FALSE         FALSE      \n",
       "[11,] FALSE       FALSE      FALSE     FALSE         FALSE      \n",
       "[12,] FALSE       FALSE      FALSE     FALSE         FALSE      \n",
       "[13,] FALSE       FALSE      FALSE     FALSE         FALSE      \n",
       "[14,] FALSE       FALSE      FALSE     FALSE         FALSE      \n",
       "[15,] FALSE       FALSE      FALSE     FALSE         FALSE      \n",
       "[16,] FALSE       FALSE      FALSE     FALSE         FALSE      \n",
       "[17,] FALSE       FALSE      FALSE     FALSE         FALSE      \n",
       "[18,] FALSE       FALSE      FALSE     FALSE         FALSE      \n",
       "[19,] FALSE       FALSE      FALSE     FALSE         FALSE      \n",
       "[20,] FALSE       FALSE      FALSE     FALSE         FALSE      \n",
       "[21,] FALSE       FALSE      FALSE     FALSE         FALSE      \n",
       "[22,] FALSE       FALSE      FALSE     FALSE         FALSE      \n",
       "[23,] FALSE       FALSE      FALSE     FALSE         FALSE      \n",
       "[24,] FALSE       FALSE      FALSE     FALSE         FALSE      \n",
       "[25,] FALSE       FALSE      FALSE     FALSE         FALSE      \n",
       "[26,] FALSE       FALSE      FALSE     FALSE         FALSE      \n",
       "[27,] FALSE       FALSE      FALSE     FALSE         FALSE      \n",
       "[28,] FALSE       FALSE      FALSE     FALSE         FALSE      \n",
       "[29,] FALSE       FALSE      FALSE     FALSE         FALSE      \n",
       "[30,] FALSE       FALSE      FALSE     FALSE         FALSE      \n",
       "[31,] ⋮           ⋮          ⋮         ⋮             ⋮          \n",
       "[32,] FALSE       FALSE      FALSE     FALSE         FALSE      \n",
       "[33,] FALSE       FALSE      FALSE      TRUE         FALSE      \n",
       "[34,] FALSE       FALSE      FALSE      TRUE         FALSE      \n",
       "[35,] FALSE       FALSE      FALSE     FALSE         FALSE      \n",
       "[36,] FALSE       FALSE      FALSE     FALSE         FALSE      \n",
       "[37,] FALSE       FALSE      FALSE     FALSE         FALSE      \n",
       "[38,] FALSE       FALSE      FALSE     FALSE         FALSE      \n",
       "[39,] FALSE       FALSE      FALSE     FALSE         FALSE      \n",
       "[40,] FALSE       FALSE      FALSE     FALSE         FALSE      \n",
       "[41,] FALSE       FALSE      FALSE     FALSE         FALSE      \n",
       "[42,] FALSE       FALSE      FALSE     FALSE         FALSE      \n",
       "[43,] FALSE       FALSE      FALSE     FALSE         FALSE      \n",
       "[44,] FALSE       FALSE      FALSE     FALSE         FALSE      \n",
       "[45,] FALSE       FALSE      FALSE     FALSE         FALSE      \n",
       "[46,] FALSE       FALSE      FALSE     FALSE         FALSE      \n",
       "[47,] FALSE       FALSE      FALSE     FALSE         FALSE      \n",
       "[48,] FALSE       FALSE      FALSE     FALSE         FALSE      \n",
       "[49,] FALSE       FALSE      FALSE     FALSE         FALSE      \n",
       "[50,] FALSE       FALSE      FALSE      TRUE         FALSE      \n",
       "[51,] FALSE       FALSE      FALSE      TRUE         FALSE      \n",
       "[52,] FALSE       FALSE      FALSE     FALSE         FALSE      \n",
       "[53,] FALSE       FALSE      FALSE     FALSE         FALSE      \n",
       "[54,] FALSE       FALSE      FALSE     FALSE         FALSE      \n",
       "[55,] FALSE       FALSE      FALSE     FALSE         FALSE      \n",
       "[56,] FALSE       FALSE      FALSE     FALSE         FALSE      \n",
       "[57,] FALSE       FALSE      FALSE     FALSE         FALSE      \n",
       "[58,] FALSE       FALSE      FALSE     FALSE         FALSE      \n",
       "[59,] FALSE       FALSE      FALSE     FALSE         FALSE      \n",
       "[60,] FALSE       FALSE      FALSE     FALSE         FALSE      \n",
       "[61,] FALSE       FALSE      FALSE     FALSE         FALSE      \n",
       "      loan_percent_income cb_person_default_on_file cb_person_cred_hist_length\n",
       " [1,] FALSE               FALSE                     FALSE                     \n",
       " [2,] FALSE               FALSE                     FALSE                     \n",
       " [3,] FALSE               FALSE                     FALSE                     \n",
       " [4,] FALSE               FALSE                     FALSE                     \n",
       " [5,] FALSE               FALSE                     FALSE                     \n",
       " [6,] FALSE               FALSE                     FALSE                     \n",
       " [7,] FALSE               FALSE                     FALSE                     \n",
       " [8,] FALSE               FALSE                     FALSE                     \n",
       " [9,] FALSE               FALSE                     FALSE                     \n",
       "[10,] FALSE               FALSE                     FALSE                     \n",
       "[11,] FALSE               FALSE                     FALSE                     \n",
       "[12,] FALSE               FALSE                     FALSE                     \n",
       "[13,] FALSE               FALSE                     FALSE                     \n",
       "[14,] FALSE               FALSE                     FALSE                     \n",
       "[15,] FALSE               FALSE                     FALSE                     \n",
       "[16,] FALSE               FALSE                     FALSE                     \n",
       "[17,] FALSE               FALSE                     FALSE                     \n",
       "[18,] FALSE               FALSE                     FALSE                     \n",
       "[19,] FALSE               FALSE                     FALSE                     \n",
       "[20,] FALSE               FALSE                     FALSE                     \n",
       "[21,] FALSE               FALSE                     FALSE                     \n",
       "[22,] FALSE               FALSE                     FALSE                     \n",
       "[23,] FALSE               FALSE                     FALSE                     \n",
       "[24,] FALSE               FALSE                     FALSE                     \n",
       "[25,] FALSE               FALSE                     FALSE                     \n",
       "[26,] FALSE               FALSE                     FALSE                     \n",
       "[27,] FALSE               FALSE                     FALSE                     \n",
       "[28,] FALSE               FALSE                     FALSE                     \n",
       "[29,] FALSE               FALSE                     FALSE                     \n",
       "[30,] FALSE               FALSE                     FALSE                     \n",
       "[31,] ⋮                   ⋮                         ⋮                         \n",
       "[32,] FALSE               FALSE                     FALSE                     \n",
       "[33,] FALSE               FALSE                     FALSE                     \n",
       "[34,] FALSE               FALSE                     FALSE                     \n",
       "[35,] FALSE               FALSE                     FALSE                     \n",
       "[36,] FALSE               FALSE                     FALSE                     \n",
       "[37,] FALSE               FALSE                     FALSE                     \n",
       "[38,] FALSE               FALSE                     FALSE                     \n",
       "[39,] FALSE               FALSE                     FALSE                     \n",
       "[40,] FALSE               FALSE                     FALSE                     \n",
       "[41,] FALSE               FALSE                     FALSE                     \n",
       "[42,] FALSE               FALSE                     FALSE                     \n",
       "[43,] FALSE               FALSE                     FALSE                     \n",
       "[44,] FALSE               FALSE                     FALSE                     \n",
       "[45,] FALSE               FALSE                     FALSE                     \n",
       "[46,] FALSE               FALSE                     FALSE                     \n",
       "[47,] FALSE               FALSE                     FALSE                     \n",
       "[48,] FALSE               FALSE                     FALSE                     \n",
       "[49,] FALSE               FALSE                     FALSE                     \n",
       "[50,] FALSE               FALSE                     FALSE                     \n",
       "[51,] FALSE               FALSE                     FALSE                     \n",
       "[52,] FALSE               FALSE                     FALSE                     \n",
       "[53,] FALSE               FALSE                     FALSE                     \n",
       "[54,] FALSE               FALSE                     FALSE                     \n",
       "[55,] FALSE               FALSE                     FALSE                     \n",
       "[56,] FALSE               FALSE                     FALSE                     \n",
       "[57,] FALSE               FALSE                     FALSE                     \n",
       "[58,] FALSE               FALSE                     FALSE                     \n",
       "[59,] FALSE               FALSE                     FALSE                     \n",
       "[60,] FALSE               FALSE                     FALSE                     \n",
       "[61,] FALSE               FALSE                     FALSE                     "
      ]
     },
     "metadata": {},
     "output_type": "display_data"
    }
   ],
   "source": [
    "# Count missing values per column\n",
    "   (is.na(df))"
   ]
  },
  {
   "cell_type": "markdown",
   "id": "85a9bef0-743f-4600-9b4b-f194452562ae",
   "metadata": {},
   "source": [
    "# Changing 'NA' values"
   ]
  },
  {
   "cell_type": "code",
   "execution_count": 4,
   "id": "bc3a83dd-d3cc-4676-8013-8361090bbb2c",
   "metadata": {},
   "outputs": [],
   "source": [
    "# Impute missing 'person_emp_length' with median \n",
    "df$person_emp_length[is.na(df$person_emp_length)] <- median(df$person_emp_length, na.rm = TRUE)"
   ]
  },
  {
   "cell_type": "code",
   "execution_count": 5,
   "id": "569feef8-f98c-410a-8f80-af2df56659cb",
   "metadata": {},
   "outputs": [],
   "source": [
    "# Impute missing 'loan_int_rate' with median\n",
    "df$loan_int_rate[is.na(df$loanint_rate)] <- median(df$loan_int_rate, na.rm = TRUE)"
   ]
  },
  {
   "cell_type": "markdown",
   "id": "4d7c8921-4451-4dca-af7c-20e5ea277e5e",
   "metadata": {},
   "source": [
    "# Changing the Data Type"
   ]
  },
  {
   "cell_type": "code",
   "execution_count": 6,
   "id": "7ae2d6eb-420d-4324-9bf7-3c187f1e465d",
   "metadata": {},
   "outputs": [],
   "source": [
    "df <- df %>%\n",
    "mutate(\n",
    "    person_home_ownership = as.factor(person_home_ownership),\n",
    "    loan_intent = as.factor(loan_intent),\n",
    "    loan_grade = as.factor(loan_grade),\n",
    "    cb_person_default_on_line = as.factor(cb_person_default_on_file),\n",
    "    loan_status = as.factor(loan_status)\n",
    "    )"
   ]
  },
  {
   "cell_type": "code",
   "execution_count": 7,
   "id": "ec1bc382-8e73-431a-b846-75c485b1741f",
   "metadata": {},
   "outputs": [
    {
     "data": {
      "text/plain": [
       "   person_age     person_income     person_home_ownership person_emp_length\n",
       " Min.   : 20.00   Min.   :   4000   MORTGAGE:13444        Min.   :  0.000  \n",
       " 1st Qu.: 23.00   1st Qu.:  38500   OTHER   :  107        1st Qu.:  2.000  \n",
       " Median : 26.00   Median :  55000   OWN     : 2584        Median :  4.000  \n",
       " Mean   : 27.73   Mean   :  66075   RENT    :16446        Mean   :  4.768  \n",
       " 3rd Qu.: 30.00   3rd Qu.:  79200                         3rd Qu.:  7.000  \n",
       " Max.   :144.00   Max.   :6000000                         Max.   :123.000  \n",
       "                                                                           \n",
       "            loan_intent   loan_grade   loan_amnt     loan_int_rate  \n",
       " DEBTCONSOLIDATION:5212   A:10777    Min.   :  500   Min.   : 5.42  \n",
       " EDUCATION        :6453   B:10451    1st Qu.: 5000   1st Qu.: 7.90  \n",
       " HOMEIMPROVEMENT  :3605   C: 6458    Median : 8000   Median :10.99  \n",
       " MEDICAL          :6071   D: 3626    Mean   : 9589   Mean   :11.01  \n",
       " PERSONAL         :5521   E:  964    3rd Qu.:12200   3rd Qu.:13.47  \n",
       " VENTURE          :5719   F:  241    Max.   :35000   Max.   :23.22  \n",
       "                          G:   64                    NA's   :3116   \n",
       " loan_status loan_percent_income cb_person_default_on_file\n",
       " 0:25473     Min.   :0.0000      Length:32581             \n",
       " 1: 7108     1st Qu.:0.0900      Class :character         \n",
       "             Median :0.1500      Mode  :character         \n",
       "             Mean   :0.1702                               \n",
       "             3rd Qu.:0.2300                               \n",
       "             Max.   :0.8300                               \n",
       "                                                          \n",
       " cb_person_cred_hist_length cb_person_default_on_line\n",
       " Min.   : 2.000             N:26836                  \n",
       " 1st Qu.: 3.000             Y: 5745                  \n",
       " Median : 4.000                                      \n",
       " Mean   : 5.804                                      \n",
       " 3rd Qu.: 8.000                                      \n",
       " Max.   :30.000                                      \n",
       "                                                     "
      ]
     },
     "metadata": {},
     "output_type": "display_data"
    }
   ],
   "source": [
    "summary(df)"
   ]
  },
  {
   "cell_type": "code",
   "execution_count": 8,
   "id": "fd19d0ec-f03b-4644-8fb4-9f3e57635c6d",
   "metadata": {},
   "outputs": [
    {
     "data": {
      "text/html": [
       "TRUE"
      ],
      "text/latex": [
       "TRUE"
      ],
      "text/markdown": [
       "TRUE"
      ],
      "text/plain": [
       "[1] TRUE"
      ]
     },
     "metadata": {},
     "output_type": "display_data"
    }
   ],
   "source": [
    "any(is.na(df))"
   ]
  },
  {
   "cell_type": "code",
   "execution_count": null,
   "id": "c38d150a-af2d-434c-b275-e90719e012ff",
   "metadata": {},
   "outputs": [],
   "source": [
    "write_csv(df, \"credit_risk_cleaned.csv\")"
   ]
  },
  {
   "cell_type": "markdown",
   "id": "706fdd7e-948c-4945-8c8b-45dbdd7b0f47",
   "metadata": {},
   "source": [
    "# EDA for Credit Risk"
   ]
  },
  {
   "cell_type": "code",
   "execution_count": 4,
   "id": "9dc82840-b17d-4593-9083-d3c4f4747408",
   "metadata": {},
   "outputs": [
    {
     "name": "stderr",
     "output_type": "stream",
     "text": [
      "\n",
      "Attaching package: 'gridExtra'\n",
      "\n",
      "\n",
      "The following object is masked from 'package:dplyr':\n",
      "\n",
      "    combine\n",
      "\n",
      "\n"
     ]
    }
   ],
   "source": [
    "library(ggplot2)\n",
    "library(GGally)\n",
    "library(gridExtra)\n",
    "library(dplyr)\n",
    "library(readr)\n",
    "library(purrr)"
   ]
  },
  {
   "cell_type": "code",
   "execution_count": 16,
   "id": "83681f40-3db5-4135-9022-302b1aca8f77",
   "metadata": {},
   "outputs": [
    {
     "name": "stderr",
     "output_type": "stream",
     "text": [
      "\u001b[1mRows: \u001b[22m\u001b[34m32581\u001b[39m \u001b[1mColumns: \u001b[22m\u001b[34m13\u001b[39m\n",
      "\u001b[36m──\u001b[39m \u001b[1mColumn specification\u001b[22m \u001b[36m────────────────────────────────────────────────────────\u001b[39m\n",
      "\u001b[1mDelimiter:\u001b[22m \",\"\n",
      "\u001b[31mchr\u001b[39m (5): person_home_ownership, loan_intent, loan_grade, cb_person_default_o...\n",
      "\u001b[32mdbl\u001b[39m (8): person_age, person_income, person_emp_length, loan_amnt, loan_int_r...\n",
      "\n",
      "\u001b[36mℹ\u001b[39m Use `spec()` to retrieve the full column specification for this data.\n",
      "\u001b[36mℹ\u001b[39m Specify the column types or set `show_col_types = FALSE` to quiet this message.\n"
     ]
    }
   ],
   "source": [
    "df <- read_csv(\"credit_risk_cleaned.csv\")"
   ]
  },
  {
   "cell_type": "code",
   "execution_count": 17,
   "id": "81e0201b-02c4-4324-800d-da9430f23016",
   "metadata": {},
   "outputs": [
    {
     "data": {
      "text/plain": [
       "   person_age     person_income     person_home_ownership person_emp_length\n",
       " Min.   : 20.00   Min.   :   4000   Length:32581          Min.   :  0.000  \n",
       " 1st Qu.: 23.00   1st Qu.:  38500   Class :character      1st Qu.:  2.000  \n",
       " Median : 26.00   Median :  55000   Mode  :character      Median :  4.000  \n",
       " Mean   : 27.73   Mean   :  66075                         Mean   :  4.768  \n",
       " 3rd Qu.: 30.00   3rd Qu.:  79200                         3rd Qu.:  7.000  \n",
       " Max.   :144.00   Max.   :6000000                         Max.   :123.000  \n",
       "                                                                           \n",
       " loan_intent         loan_grade          loan_amnt     loan_int_rate  \n",
       " Length:32581       Length:32581       Min.   :  500   Min.   : 5.42  \n",
       " Class :character   Class :character   1st Qu.: 5000   1st Qu.: 7.90  \n",
       " Mode  :character   Mode  :character   Median : 8000   Median :10.99  \n",
       "                                       Mean   : 9589   Mean   :11.01  \n",
       "                                       3rd Qu.:12200   3rd Qu.:13.47  \n",
       "                                       Max.   :35000   Max.   :23.22  \n",
       "                                                       NA's   :3116   \n",
       "  loan_status     loan_percent_income cb_person_default_on_file\n",
       " Min.   :0.0000   Min.   :0.0000      Length:32581             \n",
       " 1st Qu.:0.0000   1st Qu.:0.0900      Class :character         \n",
       " Median :0.0000   Median :0.1500      Mode  :character         \n",
       " Mean   :0.2182   Mean   :0.1702                               \n",
       " 3rd Qu.:0.0000   3rd Qu.:0.2300                               \n",
       " Max.   :1.0000   Max.   :0.8300                               \n",
       "                                                               \n",
       " cb_person_cred_hist_length cb_person_default_on_line\n",
       " Min.   : 2.000             Length:32581             \n",
       " 1st Qu.: 3.000             Class :character         \n",
       " Median : 4.000             Mode  :character         \n",
       " Mean   : 5.804                                      \n",
       " 3rd Qu.: 8.000                                      \n",
       " Max.   :30.000                                      \n",
       "                                                     "
      ]
     },
     "metadata": {},
     "output_type": "display_data"
    }
   ],
   "source": [
    "summary(df)"
   ]
  },
  {
   "cell_type": "code",
   "execution_count": 18,
   "id": "5ec7a35e-7d2b-4576-8427-98cc5955bf17",
   "metadata": {},
   "outputs": [
    {
     "name": "stdout",
     "output_type": "stream",
     "text": [
      "spc_tbl_ [32,581 × 13] (S3: spec_tbl_df/tbl_df/tbl/data.frame)\n",
      " $ person_age                : num [1:32581] 22 21 25 23 24 21 26 24 24 21 ...\n",
      " $ person_income             : num [1:32581] 59000 9600 9600 65500 54400 ...\n",
      " $ person_home_ownership     : chr [1:32581] \"RENT\" \"OWN\" \"MORTGAGE\" \"RENT\" ...\n",
      " $ person_emp_length         : num [1:32581] 123 5 1 4 8 2 8 5 8 6 ...\n",
      " $ loan_intent               : chr [1:32581] \"PERSONAL\" \"EDUCATION\" \"MEDICAL\" \"MEDICAL\" ...\n",
      " $ loan_grade                : chr [1:32581] \"D\" \"B\" \"C\" \"C\" ...\n",
      " $ loan_amnt                 : num [1:32581] 35000 1000 5500 35000 35000 2500 35000 35000 35000 1600 ...\n",
      " $ loan_int_rate             : num [1:32581] 16 11.1 12.9 15.2 14.3 ...\n",
      " $ loan_status               : num [1:32581] 1 0 1 1 1 1 1 1 1 1 ...\n",
      " $ loan_percent_income       : num [1:32581] 0.59 0.1 0.57 0.53 0.55 0.25 0.45 0.44 0.42 0.16 ...\n",
      " $ cb_person_default_on_file : chr [1:32581] \"Y\" \"N\" \"N\" \"N\" ...\n",
      " $ cb_person_cred_hist_length: num [1:32581] 3 2 3 2 4 2 3 4 2 3 ...\n",
      " $ cb_person_default_on_line : chr [1:32581] \"Y\" \"N\" \"N\" \"N\" ...\n",
      " - attr(*, \"spec\")=\n",
      "  .. cols(\n",
      "  ..   person_age = \u001b[32mcol_double()\u001b[39m,\n",
      "  ..   person_income = \u001b[32mcol_double()\u001b[39m,\n",
      "  ..   person_home_ownership = \u001b[31mcol_character()\u001b[39m,\n",
      "  ..   person_emp_length = \u001b[32mcol_double()\u001b[39m,\n",
      "  ..   loan_intent = \u001b[31mcol_character()\u001b[39m,\n",
      "  ..   loan_grade = \u001b[31mcol_character()\u001b[39m,\n",
      "  ..   loan_amnt = \u001b[32mcol_double()\u001b[39m,\n",
      "  ..   loan_int_rate = \u001b[32mcol_double()\u001b[39m,\n",
      "  ..   loan_status = \u001b[32mcol_double()\u001b[39m,\n",
      "  ..   loan_percent_income = \u001b[32mcol_double()\u001b[39m,\n",
      "  ..   cb_person_default_on_file = \u001b[31mcol_character()\u001b[39m,\n",
      "  ..   cb_person_cred_hist_length = \u001b[32mcol_double()\u001b[39m,\n",
      "  ..   cb_person_default_on_line = \u001b[31mcol_character()\u001b[39m\n",
      "  .. )\n",
      " - attr(*, \"problems\")=<externalptr> \n"
     ]
    }
   ],
   "source": [
    "str(df)"
   ]
  },
  {
   "cell_type": "code",
   "execution_count": 15,
   "id": "507388f7-0723-433e-81ce-c9aceb04c4ab",
   "metadata": {},
   "outputs": [
    {
     "data": {
      "image/png": "[encoded data removed]",
      "text/plain": [
       "plot without title"
      ]
     },
     "metadata": {
      "image/png": {
       "height": 420,
       "width": 420
      }
     },
     "output_type": "display_data"
    }
   ],
   "source": [
    "# Target Variable Distribution\n",
    "\n",
    "ggplot(df, aes(x = loan_status)) + \n",
    "  geom_bar(fill = c(\"#1f77b4\", \"#2ca02c\")) + \n",
    "  labs(title = \"Distribution of Loan Status (Target)\", \n",
    "       x = \"Loan Defaulted\", \n",
    "       y = \"Count\")"
   ]
  },
  {
   "cell_type": "code",
   "execution_count": 23,
   "id": "2a4a3498-23af-4587-95ad-bc9f2c1d5050",
   "metadata": {},
   "outputs": [],
   "source": [
    "# Select numeric variables and reshape to long format\n",
    "df_long <- df %>%\n",
    "  select(where(is.numeric)) %>%\n",
    "  pivot_longer(cols = everything(), names_to = \"variable\", values_to = \"value\")"
   ]
  },
  {
   "cell_type": "code",
   "execution_count": 24,
   "id": "c77928d8-286d-444f-9ee4-876360a52040",
   "metadata": {},
   "outputs": [
    {
     "name": "stderr",
     "output_type": "stream",
     "text": [
      "Warning message:\n",
      "\"\u001b[1m\u001b[22mRemoved 3116 rows containing non-finite outside the scale range (`stat_bin()`).\"\n"
     ]
    },
    {
     "data": {
      "image/png": "[encoded data removed]",
      "text/plain": [
       "plot without title"
      ]
     },
     "metadata": {
      "image/png": {
       "height": 420,
       "width": 420
      }
     },
     "output_type": "display_data"
    }
   ],
   "source": [
    "# Plot all histograms in one faceted plot\n",
    "ggplot(df_long, aes(x = value)) +\n",
    "  geom_histogram(fill = \"#0073c2ff\", color = \"white\", bins = 30) +\n",
    "  facet_wrap(~ variable, scales = \"free\") +\n",
    "  labs(title = \"Histograms of Numeric Features\", x = \"Value\", y = \"Count\")"
   ]
  },
  {
   "cell_type": "code",
   "execution_count": 25,
   "id": "d4644c58-6d41-43c6-9400-33b4883498bb",
   "metadata": {},
   "outputs": [
    {
     "data": {
      "image/png": "[encoded data removed]",
      "text/plain": [
       "plot without title"
      ]
     },
     "metadata": {
      "image/png": {
       "height": 420,
       "width": 420
      }
     },
     "output_type": "display_data"
    }
   ],
   "source": [
    "# Arrange plots in grid \n",
    "\n",
    "do.call(grid.arrange, c(numeric_plots[1:4], ncol = 2))"
   ]
  },
  {
   "cell_type": "code",
   "execution_count": 28,
   "id": "6af9c146-ddd2-48c3-8874-aabd84b5a9a9",
   "metadata": {},
   "outputs": [
    {
     "name": "stderr",
     "output_type": "stream",
     "text": [
      "Warning message in geom_bar(postion = \"fill\"):\n",
      "\"\u001b[1m\u001b[22mIgnoring unknown parameters: `postion`\"\n",
      "Warning message:\n",
      "\"\u001b[1m\u001b[22mThe following aesthetics were dropped during statistical transformation: \u001b[32mfill\u001b[39m.\n",
      "\u001b[36mℹ\u001b[39m This can happen when ggplot fails to infer the correct grouping structure in\n",
      "  the data.\n",
      "\u001b[36mℹ\u001b[39m Did you forget to specify a `group` aesthetic or to convert a numerical\n",
      "  variable into a factor?\"\n"
     ]
    },
    {
     "data": {
      "image/png": "[encoded data removed]",
      "text/plain": [
       "plot without title"
      ]
     },
     "metadata": {
      "image/png": {
       "height": 420,
       "width": 420
      }
     },
     "output_type": "display_data"
    }
   ],
   "source": [
    "# Categorical Variables VS Target\n",
    "\n",
    "ggplot(df, aes(x = person_home_ownership, fill = loan_status)) +\n",
    "geom_bar(postion = \"fill\") +\n",
    "labs(title = \"Loan Default Rate by Home Ownership\", y = \"Proportion\")"
   ]
  },
  {
   "cell_type": "code",
   "execution_count": 32,
   "id": "c54a6840-8f53-4e90-9308-05e05eece2a9",
   "metadata": {},
   "outputs": [
    {
     "data": {
      "image/png": "[encoded data removed]",
      "text/plain": [
       "plot without title"
      ]
     },
     "metadata": {
      "image/png": {
       "height": 420,
       "width": 420
      }
     },
     "output_type": "display_data"
    }
   ],
   "source": [
    "# Correlation Matrix\n",
    "\n",
    "cor_matrix <- cor(numeric_vars)\n",
    "ggcorr(numeric_vars, label = TRUE, label_size = 3)"
   ]
  },
  {
   "cell_type": "code",
   "execution_count": 35,
   "id": "9fda6bac-fc32-40b3-936b-4ca79cbae95e",
   "metadata": {},
   "outputs": [
    {
     "name": "stderr",
     "output_type": "stream",
     "text": [
      "Warning message:\n",
      "\"\u001b[1m\u001b[22mContinuous \u001b[32mx\u001b[39m aesthetic\n",
      "\u001b[36mℹ\u001b[39m did you forget `aes(group = ...)`?\"\n",
      "Warning message:\n",
      "\"\u001b[1m\u001b[22mContinuous \u001b[32mx\u001b[39m aesthetic\n",
      "\u001b[36mℹ\u001b[39m did you forget `aes(group = ...)`?\"\n",
      "Warning message:\n",
      "\"\u001b[1m\u001b[22mRemoved 3116 rows containing non-finite outside the scale range\n",
      "(`stat_boxplot()`).\"\n"
     ]
    },
    {
     "data": {
      "image/png": "[encoded data removed]",
      "text/plain": [
       "plot without title"
      ]
     },
     "metadata": {
      "image/png": {
       "height": 420,
       "width": 420
      }
     },
     "output_type": "display_data"
    },
    {
     "data": {
      "image/png": "[encoded data removed]",
      "text/plain": [
       "plot without title"
      ]
     },
     "metadata": {
      "image/png": {
       "height": 420,
       "width": 420
      }
     },
     "output_type": "display_data"
    }
   ],
   "source": [
    "# Boxplots of Numeric VS Target\n",
    "\n",
    "ggplot(df, aes(x = loan_status, y = person_income)) +\n",
    "geom_boxplot(fill = \"#e69f00\") +\n",
    "labs(title = \"Income Distribution by Loan Status\")\n",
    "\n",
    "ggplot(df, aes(x = loan_status, y = loan_int_rate)) +\n",
    "geom_boxplot(fill = \"#56b4e9\") +\n",
    "labs(title = \"Interest Rate by Loan Status\")"
   ]
  },
  {
   "cell_type": "code",
   "execution_count": 38,
   "id": "75d68567-250d-4cc2-af9a-34b7bd16f782",
   "metadata": {},
   "outputs": [
    {
     "name": "stderr",
     "output_type": "stream",
     "text": [
      "Warning message:\n",
      "\"\u001b[1m\u001b[22mThe following aesthetics were dropped during statistical transformation: \u001b[32mfill\u001b[39m.\n",
      "\u001b[36mℹ\u001b[39m This can happen when ggplot fails to infer the correct grouping structure in\n",
      "  the data.\n",
      "\u001b[36mℹ\u001b[39m Did you forget to specify a `group` aesthetic or to convert a numerical\n",
      "  variable into a factor?\"\n"
     ]
    },
    {
     "data": {
      "image/png": "[encoded data removed]",
      "text/plain": [
       "plot without title"
      ]
     },
     "metadata": {
      "image/png": {
       "height": 420,
       "width": 420
      }
     },
     "output_type": "display_data"
    }
   ],
   "source": [
    "# Credit Bureau Default VS Loan Default\n",
    "\n",
    "ggplot(df, aes(x = cb_person_default_on_file, fill = loan_status)) +\n",
    "geom_bar(position = \"fill\") +\n",
    "labs(title = \"Loan Default by Previous Credit Bureau Default\", y = \"Proportion\")"
   ]
  },
  {
   "cell_type": "markdown",
   "id": "587ce028-1d0d-4cdc-b373-8b3f8be84015",
   "metadata": {},
   "source": [
    "# Logistic Regression for Credit Risk Detection"
   ]
  },
  {
   "cell_type": "code",
   "execution_count": 5,
   "id": "75fc8429-5f1d-4a58-84b5-a8d4be40ca0d",
   "metadata": {},
   "outputs": [
    {
     "name": "stderr",
     "output_type": "stream",
     "text": [
      "\n",
      "Attaching package: 'ModelMetrics'\n",
      "\n",
      "\n",
      "The following object is masked from 'package:base':\n",
      "\n",
      "    kappa\n",
      "\n",
      "\n",
      "Loading required package: lattice\n",
      "\n",
      "\n",
      "Attaching package: 'caret'\n",
      "\n",
      "\n",
      "The following objects are masked from 'package:ModelMetrics':\n",
      "\n",
      "    confusionMatrix, precision, recall, sensitivity, specificity\n",
      "\n",
      "\n",
      "The following object is masked from 'package:purrr':\n",
      "\n",
      "    lift\n",
      "\n",
      "\n",
      "\n",
      "Attaching package: 'e1071'\n",
      "\n",
      "\n",
      "The following object is masked from 'package:ggplot2':\n",
      "\n",
      "    element\n",
      "\n",
      "\n"
     ]
    }
   ],
   "source": [
    "library(ModelMetrics)\n",
    "library(caret)\n",
    "library(ROCR)\n",
    "library(e1071)"
   ]
  },
  {
   "cell_type": "code",
   "execution_count": 6,
   "id": "3786f3dd-264e-40f1-8c96-86e915699bbe",
   "metadata": {},
   "outputs": [
    {
     "name": "stderr",
     "output_type": "stream",
     "text": [
      "\u001b[1mRows: \u001b[22m\u001b[34m32581\u001b[39m \u001b[1mColumns: \u001b[22m\u001b[34m13\u001b[39m\n",
      "\u001b[36m──\u001b[39m \u001b[1mColumn specification\u001b[22m \u001b[36m────────────────────────────────────────────────────────\u001b[39m\n",
      "\u001b[1mDelimiter:\u001b[22m \",\"\n",
      "\u001b[31mchr\u001b[39m (5): person_home_ownership, loan_intent, loan_grade, cb_person_default_o...\n",
      "\u001b[32mdbl\u001b[39m (8): person_age, person_income, person_emp_length, loan_amnt, loan_int_r...\n",
      "\n",
      "\u001b[36mℹ\u001b[39m Use `spec()` to retrieve the full column specification for this data.\n",
      "\u001b[36mℹ\u001b[39m Specify the column types or set `show_col_types = FALSE` to quiet this message.\n"
     ]
    }
   ],
   "source": [
    "  df <- read_csv(\"credit_risk_cleaned.csv\")"
   ]
  },
  {
   "cell_type": "code",
   "execution_count": 7,
   "id": "4972df5e-796a-4582-8c42-c2436f65582b",
   "metadata": {},
   "outputs": [],
   "source": [
    "df$loan_status <- as.factor(df$loan_status)"
   ]
  },
  {
   "cell_type": "code",
   "execution_count": 10,
   "id": "a0557c85-1971-4e23-a8c8-931bb615c82b",
   "metadata": {},
   "outputs": [],
   "source": [
    "# 1. Split Data into Train and Test Sets\n",
    "set.seed(123)\n",
    "train_index <- createDataPartition(df$loan_status, p = 0.7, list = FALSE)\n",
    "train_data <- df[train_index, ]\n",
    "test_data <- df[-train_index, ]"
   ]
  },
  {
   "cell_type": "code",
   "execution_count": 11,
   "id": "726a8c21-9a4e-49c4-abfd-8f32dd3370f6",
   "metadata": {},
   "outputs": [],
   "source": [
    "# 2. Build Logitic Regression Model\n",
    "\n",
    "model <- glm(loan_status ~ ., data = train_data, family = \"binomial\")"
   ]
  },
  {
   "cell_type": "code",
   "execution_count": 13,
   "id": "b313af51-320c-4227-8cd2-79b203333ea8",
   "metadata": {},
   "outputs": [],
   "source": [
    "# 3. Predict on Test Data\n",
    "\n",
    "probabilities <- predict(model, newdata = test_data, type = \"response\")\n",
    "predicted_classes <- ifelse(probabilities > 0.5, 1, 0)\n",
    "predicted_classes <- as.factor(predicted_classes)\n",
    "actual_classes <- test_data$loan_status"
   ]
  },
  {
   "cell_type": "code",
   "execution_count": 14,
   "id": "ae6fdffa-b7f6-4aa7-80e8-f8fd024d7092",
   "metadata": {},
   "outputs": [
    {
     "name": "stdout",
     "output_type": "stream",
     "text": [
      "Confusion Matrix and Statistics\n",
      "\n",
      "          Reference\n",
      "Prediction    0    1\n",
      "         0 6525  860\n",
      "         1  355 1078\n",
      "                                          \n",
      "               Accuracy : 0.8622          \n",
      "                 95% CI : (0.8548, 0.8693)\n",
      "    No Information Rate : 0.7802          \n",
      "    P-Value [Acc > NIR] : < 2.2e-16       \n",
      "                                          \n",
      "                  Kappa : 0.5568          \n",
      "                                          \n",
      " Mcnemar's Test P-Value : < 2.2e-16       \n",
      "                                          \n",
      "            Sensitivity : 0.5562          \n",
      "            Specificity : 0.9484          \n",
      "         Pos Pred Value : 0.7523          \n",
      "         Neg Pred Value : 0.8835          \n",
      "             Prevalence : 0.2198          \n",
      "         Detection Rate : 0.1222          \n",
      "   Detection Prevalence : 0.1625          \n",
      "      Balanced Accuracy : 0.7523          \n",
      "                                          \n",
      "       'Positive' Class : 1               \n",
      "                                          \n"
     ]
    }
   ],
   "source": [
    "# 4. Model Evaluation\n",
    "\n",
    "# Confusion Matrix\n",
    "conf_mat <- confusionMatrix(predicted_classes, actual_classes, positive = \"1\")\n",
    "print(conf_mat)"
   ]
  },
  {
   "cell_type": "code",
   "execution_count": 16,
   "id": "9d771886-48a5-4492-9656-e4cfe0cc536e",
   "metadata": {},
   "outputs": [
    {
     "data": {
      "text/html": [
       "955"
      ],
      "text/latex": [
       "955"
      ],
      "text/markdown": [
       "955"
      ],
      "text/plain": [
       "[1] 955"
      ]
     },
     "metadata": {},
     "output_type": "display_data"
    },
    {
     "data": {
      "text/html": [
       "0"
      ],
      "text/latex": [
       "0"
      ],
      "text/markdown": [
       "0"
      ],
      "text/plain": [
       "[1] 0"
      ]
     },
     "metadata": {},
     "output_type": "display_data"
    }
   ],
   "source": [
    "sum(is.na(probabilities))     # Count of NAs in predicted probabilities\n",
    "sum(is.na(actual_classes))    # Count of NAs in actual class labels"
   ]
  },
  {
   "cell_type": "code",
   "execution_count": 17,
   "id": "786edf23-5982-4c2a-96b9-09d058083f84",
   "metadata": {},
   "outputs": [],
   "source": [
    "# Combine into a data frame\n",
    "df <- data.frame(prob = probabilities, actual = actual_classes)"
   ]
  },
  {
   "cell_type": "code",
   "execution_count": 18,
   "id": "ad0c78a1-2f3c-4430-8fdf-04a0d557c672",
   "metadata": {},
   "outputs": [],
   "source": [
    "# Remove rows with NA\n",
    "df <- na.omit(df)"
   ]
  },
  {
   "cell_type": "code",
   "execution_count": 19,
   "id": "f31185c7-2097-4d4c-bfb9-b6ef525331a0",
   "metadata": {},
   "outputs": [],
   "source": [
    "# Use filtered data\n",
    "pred_obj <- prediction(df$prob, df$actual)\n",
    "perf <- performance(pred_obj, \"tpr\", \"fpr\")   # Note: You had \"trp\" and \"frp\", should be \"tpr\", \"fpr\"\n",
    "auc <- performance(pred_obj, \"auc\")@y.values[[1]]"
   ]
  },
  {
   "cell_type": "code",
   "execution_count": 20,
   "id": "b8bea7d6-de69-4f1b-8d67-296d78dc15cd",
   "metadata": {},
   "outputs": [
    {
     "data": {
      "image/png": "[encoded data removed]",
      "text/plain": [
       "Plot with title \"ROC Curve (AUC = 0.865 )\""
      ]
     },
     "metadata": {
      "image/png": {
       "height": 420,
       "width": 420
      }
     },
     "output_type": "display_data"
    }
   ],
   "source": [
    "# Plot ROC\n",
    "plot(perf, col = \"blue\", main = paste(\"ROC Curve (AUC =\", round(auc, 3), \")\")) \n",
    "abline(a = 0, b = 1, lty = 2, col = \"gray\")"
   ]
  },
  {
   "cell_type": "code",
   "execution_count": 21,
   "id": "38c75bb7-35c0-400a-b94d-17026cf3e9fd",
   "metadata": {},
   "outputs": [
    {
     "data": {
      "text/plain": [
       "\n",
       "Call:\n",
       "glm(formula = loan_status ~ ., family = \"binomial\", data = train_data)\n",
       "\n",
       "Coefficients: (1 not defined because of singularities)\n",
       "                             Estimate Std. Error z value Pr(>|z|)    \n",
       "(Intercept)                -4.116e+00  2.385e-01 -17.261  < 2e-16 ***\n",
       "person_age                 -8.993e-03  7.288e-03  -1.234 0.217229    \n",
       "person_income               1.906e-06  5.910e-07   3.225 0.001260 ** \n",
       "person_home_ownershipOTHER  3.116e-01  3.838e-01   0.812 0.416801    \n",
       "person_home_ownershipOWN   -1.721e+00  1.253e-01 -13.734  < 2e-16 ***\n",
       "person_home_ownershipRENT   8.177e-01  5.055e-02  16.176  < 2e-16 ***\n",
       "person_emp_length          -2.042e-02  6.124e-03  -3.335 0.000854 ***\n",
       "loan_intentEDUCATION       -8.905e-01  7.254e-02 -12.275  < 2e-16 ***\n",
       "loan_intentHOMEIMPROVEMENT  7.168e-02  7.975e-02   0.899 0.368733    \n",
       "loan_intentMEDICAL         -1.516e-01  6.807e-02  -2.227 0.025930 *  \n",
       "loan_intentPERSONAL        -6.276e-01  7.333e-02  -8.559  < 2e-16 ***\n",
       "loan_intentVENTURE         -1.187e+00  7.867e-02 -15.082  < 2e-16 ***\n",
       "loan_gradeB                 1.832e-01  9.794e-02   1.871 0.061403 .  \n",
       "loan_gradeC                 3.316e-01  1.485e-01   2.232 0.025582 *  \n",
       "loan_gradeD                 2.424e+00  1.860e-01  13.030  < 2e-16 ***\n",
       "loan_gradeE                 2.769e+00  2.354e-01  11.760  < 2e-16 ***\n",
       "loan_gradeF                 3.149e+00  3.236e-01   9.730  < 2e-16 ***\n",
       "loan_gradeG                 6.195e+00  1.067e+00   5.806 6.41e-09 ***\n",
       "loan_amnt                  -1.124e-04  5.579e-06 -20.147  < 2e-16 ***\n",
       "loan_int_rate               7.535e-02  2.142e-02   3.518 0.000434 ***\n",
       "loan_percent_income         1.368e+01  3.257e-01  41.993  < 2e-16 ***\n",
       "cb_person_default_on_fileY  2.343e-02  6.296e-02   0.372 0.709723    \n",
       "cb_person_cred_hist_length  7.113e-03  1.106e-02   0.643 0.520266    \n",
       "cb_person_default_on_lineY         NA         NA      NA       NA    \n",
       "---\n",
       "Signif. codes:  0 '***' 0.001 '**' 0.01 '*' 0.05 '.' 0.1 ' ' 1\n",
       "\n",
       "(Dispersion parameter for binomial family taken to be 1)\n",
       "\n",
       "    Null deviance: 21717  on 20646  degrees of freedom\n",
       "Residual deviance: 13823  on 20624  degrees of freedom\n",
       "  (2161 observations deleted due to missingness)\n",
       "AIC: 13869\n",
       "\n",
       "Number of Fisher Scoring iterations: 6\n"
      ]
     },
     "metadata": {},
     "output_type": "display_data"
    }
   ],
   "source": [
    "summary(model)"
   ]
  },
  {
   "cell_type": "code",
   "execution_count": 22,
   "id": "b8b05424-7288-40ed-9551-552b564d5025",
   "metadata": {},
   "outputs": [
    {
     "name": "stderr",
     "output_type": "stream",
     "text": [
      "randomForest 4.7-1.2\n",
      "\n",
      "Type rfNews() to see new features/changes/bug fixes.\n",
      "\n",
      "\n",
      "Attaching package: 'randomForest'\n",
      "\n",
      "\n",
      "The following object is masked from 'package:gridExtra':\n",
      "\n",
      "    combine\n",
      "\n",
      "\n",
      "The following object is masked from 'package:dplyr':\n",
      "\n",
      "    combine\n",
      "\n",
      "\n",
      "The following object is masked from 'package:ggplot2':\n",
      "\n",
      "    margin\n",
      "\n",
      "\n"
     ]
    }
   ],
   "source": [
    "#library(randomForest)"
   ]
  },
  {
   "cell_type": "code",
   "execution_count": 23,
   "id": "c5abaac0-ac6f-4d14-8824-df79a5f02b02",
   "metadata": {},
   "outputs": [
    {
     "name": "stderr",
     "output_type": "stream",
     "text": [
      "\u001b[1mRows: \u001b[22m\u001b[34m32581\u001b[39m \u001b[1mColumns: \u001b[22m\u001b[34m13\u001b[39m\n",
      "\u001b[36m──\u001b[39m \u001b[1mColumn specification\u001b[22m \u001b[36m────────────────────────────────────────────────────────\u001b[39m\n",
      "\u001b[1mDelimiter:\u001b[22m \",\"\n",
      "\u001b[31mchr\u001b[39m (5): person_home_ownership, loan_intent, loan_grade, cb_person_default_o...\n",
      "\u001b[32mdbl\u001b[39m (8): person_age, person_income, person_emp_length, loan_amnt, loan_int_r...\n",
      "\n",
      "\u001b[36mℹ\u001b[39m Use `spec()` to retrieve the full column specification for this data.\n",
      "\u001b[36mℹ\u001b[39m Specify the column types or set `show_col_types = FALSE` to quiet this message.\n"
     ]
    }
   ],
   "source": [
    "# Load cleaned dataset\n",
    "\n",
    "df <- read_csv(\"credit_risk_cleaned.csv\")"
   ]
  },
  {
   "cell_type": "code",
   "execution_count": 24,
   "id": "4d138330-0187-4b22-bd6b-baf3b4180ce6",
   "metadata": {},
   "outputs": [],
   "source": [
    "# Ensure target is factor\n",
    "\n",
    "df$loan_status <- as.factor(df$loan_status)"
   ]
  },
  {
   "cell_type": "code",
   "execution_count": 25,
   "id": "ff41faad-3ef0-4708-9804-166e5ebd0e6e",
   "metadata": {},
   "outputs": [],
   "source": [
    "# 1. Split Data\n",
    "\n",
    "set.seed(123)\n",
    "train_index <-createDataPartition(df$loan_status, p = 0.7, list = FALSE)\n",
    "train_data <- df[train_index, ]\n",
    "test_data <- df[-train_index, ]"
   ]
  },
  {
   "cell_type": "code",
   "execution_count": 27,
   "id": "25e604e2-9f3a-4c16-ae6b-a49a290705cc",
   "metadata": {},
   "outputs": [
    {
     "data": {
      "text/html": [
       "<style>\n",
       ".dl-inline {width: auto; margin:0; padding: 0}\n",
       ".dl-inline>dt, .dl-inline>dd {float: none; width: auto; display: inline-block}\n",
       ".dl-inline>dt::after {content: \":\\0020\"; padding-right: .5ex}\n",
       ".dl-inline>dt:not(:first-of-type) {padding-left: .5ex}\n",
       "</style><dl class=dl-inline><dt>person_age</dt><dd>0</dd><dt>person_income</dt><dd>0</dd><dt>person_home_ownership</dt><dd>0</dd><dt>person_emp_length</dt><dd>0</dd><dt>loan_intent</dt><dd>0</dd><dt>loan_grade</dt><dd>0</dd><dt>loan_amnt</dt><dd>0</dd><dt>loan_int_rate</dt><dd>2161</dd><dt>loan_status</dt><dd>0</dd><dt>loan_percent_income</dt><dd>0</dd><dt>cb_person_default_on_file</dt><dd>0</dd><dt>cb_person_cred_hist_length</dt><dd>0</dd><dt>cb_person_default_on_line</dt><dd>0</dd></dl>\n"
      ],
      "text/latex": [
       "\\begin{description*}\n",
       "\\item[person\\textbackslash{}\\_age] 0\n",
       "\\item[person\\textbackslash{}\\_income] 0\n",
       "\\item[person\\textbackslash{}\\_home\\textbackslash{}\\_ownership] 0\n",
       "\\item[person\\textbackslash{}\\_emp\\textbackslash{}\\_length] 0\n",
       "\\item[loan\\textbackslash{}\\_intent] 0\n",
       "\\item[loan\\textbackslash{}\\_grade] 0\n",
       "\\item[loan\\textbackslash{}\\_amnt] 0\n",
       "\\item[loan\\textbackslash{}\\_int\\textbackslash{}\\_rate] 2161\n",
       "\\item[loan\\textbackslash{}\\_status] 0\n",
       "\\item[loan\\textbackslash{}\\_percent\\textbackslash{}\\_income] 0\n",
       "\\item[cb\\textbackslash{}\\_person\\textbackslash{}\\_default\\textbackslash{}\\_on\\textbackslash{}\\_file] 0\n",
       "\\item[cb\\textbackslash{}\\_person\\textbackslash{}\\_cred\\textbackslash{}\\_hist\\textbackslash{}\\_length] 0\n",
       "\\item[cb\\textbackslash{}\\_person\\textbackslash{}\\_default\\textbackslash{}\\_on\\textbackslash{}\\_line] 0\n",
       "\\end{description*}\n"
      ],
      "text/markdown": [
       "person_age\n",
       ":   0person_income\n",
       ":   0person_home_ownership\n",
       ":   0person_emp_length\n",
       ":   0loan_intent\n",
       ":   0loan_grade\n",
       ":   0loan_amnt\n",
       ":   0loan_int_rate\n",
       ":   2161loan_status\n",
       ":   0loan_percent_income\n",
       ":   0cb_person_default_on_file\n",
       ":   0cb_person_cred_hist_length\n",
       ":   0cb_person_default_on_line\n",
       ":   0\n",
       "\n"
      ],
      "text/plain": [
       "                person_age              person_income \n",
       "                         0                          0 \n",
       "     person_home_ownership          person_emp_length \n",
       "                         0                          0 \n",
       "               loan_intent                 loan_grade \n",
       "                         0                          0 \n",
       "                 loan_amnt              loan_int_rate \n",
       "                         0                       2161 \n",
       "               loan_status        loan_percent_income \n",
       "                         0                          0 \n",
       " cb_person_default_on_file cb_person_cred_hist_length \n",
       "                         0                          0 \n",
       " cb_person_default_on_line \n",
       "                         0 "
      ]
     },
     "metadata": {},
     "output_type": "display_data"
    },
    {
     "data": {
      "text/html": [
       "2161"
      ],
      "text/latex": [
       "2161"
      ],
      "text/markdown": [
       "2161"
      ],
      "text/plain": [
       "[1] 2161"
      ]
     },
     "metadata": {},
     "output_type": "display_data"
    }
   ],
   "source": [
    "colSums(is.na(train_data))   # Number of NAs per column\n",
    "sum(is.na(train_data))       # Total number of NAs"
   ]
  },
  {
   "cell_type": "code",
   "execution_count": 28,
   "id": "9fdf0cb8-b347-4488-b7ac-b3cbc4e07a65",
   "metadata": {},
   "outputs": [],
   "source": [
    "train_data <- na.omit(train_data)\n",
    "rf_model <- randomForest(loan_status ~ ., data = train_data, ntree = 100, importance = TRUE)"
   ]
  },
  {
   "cell_type": "code",
   "execution_count": 29,
   "id": "320d8294-d503-4cff-a6d5-220e15194b1c",
   "metadata": {},
   "outputs": [],
   "source": [
    "# 3. Predict on Test Set\n",
    "\n",
    "rf_probs <- predict(rf_model, test_data, type = \"prob\")[,2]\n",
    "rf_preds <- predict(rf_model, test_data, type = \"response\")"
   ]
  },
  {
   "cell_type": "code",
   "execution_count": 30,
   "id": "c9bbcaf9-209d-490c-ae86-66a8ab867dcd",
   "metadata": {},
   "outputs": [
    {
     "data": {
      "text/plain": [
       "Confusion Matrix and Statistics\n",
       "\n",
       "          Reference\n",
       "Prediction    0    1\n",
       "         0 6821  592\n",
       "         1   59 1346\n",
       "                                          \n",
       "               Accuracy : 0.9262          \n",
       "                 95% CI : (0.9205, 0.9315)\n",
       "    No Information Rate : 0.7802          \n",
       "    P-Value [Acc > NIR] : < 2.2e-16       \n",
       "                                          \n",
       "                  Kappa : 0.7611          \n",
       "                                          \n",
       " Mcnemar's Test P-Value : < 2.2e-16       \n",
       "                                          \n",
       "            Sensitivity : 0.6945          \n",
       "            Specificity : 0.9914          \n",
       "         Pos Pred Value : 0.9580          \n",
       "         Neg Pred Value : 0.9201          \n",
       "             Prevalence : 0.2198          \n",
       "         Detection Rate : 0.1526          \n",
       "   Detection Prevalence : 0.1593          \n",
       "      Balanced Accuracy : 0.8430          \n",
       "                                          \n",
       "       'Positive' Class : 1               \n",
       "                                          "
      ]
     },
     "metadata": {},
     "output_type": "display_data"
    }
   ],
   "source": [
    "# Confusion Matrix\n",
    "\n",
    "confusionMatrix(rf_preds, test_data$loan_status, positive = \"1\")"
   ]
  },
  {
   "cell_type": "code",
   "execution_count": 32,
   "id": "e1d7e2fa-d81e-466e-909e-3c5bb12fe64d",
   "metadata": {},
   "outputs": [
    {
     "data": {
      "text/html": [
       "955"
      ],
      "text/latex": [
       "955"
      ],
      "text/markdown": [
       "955"
      ],
      "text/plain": [
       "[1] 955"
      ]
     },
     "metadata": {},
     "output_type": "display_data"
    },
    {
     "data": {
      "text/html": [
       "0"
      ],
      "text/latex": [
       "0"
      ],
      "text/markdown": [
       "0"
      ],
      "text/plain": [
       "[1] 0"
      ]
     },
     "metadata": {},
     "output_type": "display_data"
    }
   ],
   "source": [
    "sum(is.na(rf_probs))          # Are there NAs in predicted probabilities?\n",
    "sum(is.na(test_data$loan_status))  # Any missing true labels?"
   ]
  },
  {
   "cell_type": "code",
   "execution_count": 33,
   "id": "be186b90-7b3c-4ec1-936f-b16e9d8d35ae",
   "metadata": {},
   "outputs": [],
   "source": [
    "# Predict probabilities\n",
    "rf_probs <- predict(rf_model, newdata = test_data, type = \"prob\")[, 2]"
   ]
  },
  {
   "cell_type": "code",
   "execution_count": 34,
   "id": "5557a4ab-43f5-4f8f-abeb-b53ad2c60c0f",
   "metadata": {},
   "outputs": [],
   "source": [
    "# Combine into a data frame and remove NAs\n",
    "roc_data <- data.frame(prob = rf_probs, actual = test_data$loan_status)\n",
    "roc_data <- na.omit(roc_data)"
   ]
  },
  {
   "cell_type": "code",
   "execution_count": 35,
   "id": "05303788-6de5-48a8-9636-aae6b5516d1d",
   "metadata": {},
   "outputs": [
    {
     "data": {
      "image/png": "[encoded data removed]",
      "text/plain": [
       "Plot with title \"ROC Curve (AUC = 0.927 )\""
      ]
     },
     "metadata": {
      "image/png": {
       "height": 420,
       "width": 420
      }
     },
     "output_type": "display_data"
    }
   ],
   "source": [
    "# ROC and AUC\n",
    "\n",
    "rf_pred_obj <- prediction(roc_data$prob, roc_data$actual)\n",
    "rf_perf <- performance(rf_pred_obj, \"tpr\", \"fpr\")\n",
    "rf_auc <- performance(rf_pred_obj, \"auc\")@y.values[[1]]\n",
    "\n",
    "plot(rf_perf, col = \"darkgreen\", lwd = 2,\n",
    "     main = paste(\"ROC Curve (AUC =\", round(rf_auc, 3), \")\"))\n",
    "abline(a = 0, b = 1, lty = 2, col = \"gray\")"
   ]
  },
  {
   "cell_type": "code",
   "execution_count": 36,
   "id": "58509fa8-dcab-47f5-bc22-95b6f6e8bdd8",
   "metadata": {},
   "outputs": [
    {
     "data": {
      "image/png": "[encoded data removed]",
      "text/plain": [
       "plot without title"
      ]
     },
     "metadata": {
      "image/png": {
       "height": 420,
       "width": 420
      }
     },
     "output_type": "display_data"
    }
   ],
   "source": [
    "# 5. Feature Importance\n",
    "\n",
    "varImpPlot(rf_model, main = \"Variable Importance - Random Forest\")"
   ]
  },
  {
   "cell_type": "code",
   "execution_count": null,
   "id": "30929eaa-cba7-4186-8773-bbe615c73c43",
   "metadata": {},
   "outputs": [],
   "source": []
  }
 ],
 "metadata": {
  "kernelspec": {
   "display_name": "R",
   "language": "R",
   "name": "ir"
  },
  "language_info": {
   "codemirror_mode": "r",
   "file_extension": ".r",
   "mimetype": "text/x-r-source",
   "name": "R",
   "pygments_lexer": "r",
   "version": "4.3.3"
  }
 },
 "nbformat": 4,
 "nbformat_minor": 5
}
